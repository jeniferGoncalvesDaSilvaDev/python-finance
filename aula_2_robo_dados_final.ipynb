{
  "cells": [
    {
      "cell_type": "markdown",
      "metadata": {
        "id": "view-in-github",
        "colab_type": "text"
      },
      "source": [
        "<a href=\"https://colab.research.google.com/github/jeniferGoncalvesDaSilvaDev/python-finance/blob/main/aula_2_robo_dados_final.ipynb\" target=\"_parent\"><img src=\"https://colab.research.google.com/assets/colab-badge.svg\" alt=\"Open In Colab\"/></a>"
      ]
    },
    {
      "cell_type": "markdown",
      "id": "9fb80227-70ab-440b-8d20-2ab383e724ab",
      "metadata": {
        "id": "9fb80227-70ab-440b-8d20-2ab383e724ab"
      },
      "source": [
        "### Documentação\n",
        "\n",
        "https://docs.coingecko.com/v3.0.1/reference/coins-id-market-chart\n",
        "\n",
        "### Chave API\n",
        "\n",
        "https://www.coingecko.com/pt/developers/painel"
      ]
    },
    {
      "cell_type": "code",
      "execution_count": null,
      "id": "38b695d5-d2e1-48bc-bc6f-c75bc99c1f21",
      "metadata": {
        "id": "38b695d5-d2e1-48bc-bc6f-c75bc99c1f21"
      },
      "outputs": [],
      "source": [
        "import requests\n",
        "import pandas as pd\n",
        "import datetime\n",
        "import time"
      ]
    },
    {
      "cell_type": "code",
      "execution_count": null,
      "id": "38c5c340-d2a1-4833-85f1-48a9f513660a",
      "metadata": {
        "id": "38c5c340-d2a1-4833-85f1-48a9f513660a"
      },
      "outputs": [],
      "source": [
        "headers = {\"x-cg-demo-api-key\": \"SUACHAVE\"}"
      ]
    },
    {
      "cell_type": "code",
      "execution_count": null,
      "id": "8325fe9b-12da-48d4-b002-1684f9729709",
      "metadata": {
        "id": "8325fe9b-12da-48d4-b002-1684f9729709"
      },
      "outputs": [],
      "source": [
        "criptos = ['bitcoin', 'ethereum', 'solana', 'immutable-x', 'pendle',\n",
        "           'jito-staked-sol', 'render-token']"
      ]
    },
    {
      "cell_type": "code",
      "execution_count": null,
      "id": "c2792b5b-7971-47f7-a779-af078e3d1dda",
      "metadata": {
        "id": "c2792b5b-7971-47f7-a779-af078e3d1dda"
      },
      "outputs": [],
      "source": [
        "params = {\n",
        "        'vs_currency': 'usd',\n",
        "        'days': 365\n",
        "    }"
      ]
    },
    {
      "cell_type": "code",
      "execution_count": null,
      "id": "86354e31-660f-403c-a97c-0e2e009da5f4",
      "metadata": {
        "id": "86354e31-660f-403c-a97c-0e2e009da5f4"
      },
      "outputs": [],
      "source": [
        "lista_tabelas = []\n",
        "\n",
        "for cripto in criptos:\n",
        "\n",
        "    print(cripto)\n",
        "\n",
        "    url = f\"https://api.coingecko.com/api/v3/coins/{cripto}/market_chart\"\n",
        "\n",
        "    resposta = requests.get(url, params=params, headers=headers)\n",
        "\n",
        "    dados = resposta.json()\n",
        "\n",
        "    df_price = pd.DataFrame(dados['prices'], columns=['timestamp', 'price'])\n",
        "    df_volume = pd.DataFrame(dados['total_volumes'], columns=['timestamp', 'volume'])\n",
        "    df_final = df_price.merge(df_volume, on = \"timestamp\")\n",
        "    df_final['timestamp'] = pd.to_datetime(df_final['timestamp'], unit='ms')\n",
        "    df_final['crypto'] = cripto\n",
        "    lista_tabelas.append(df_final)"
      ]
    },
    {
      "cell_type": "code",
      "execution_count": null,
      "id": "b35eda1a-7ab8-4f3f-b9bf-cbb885486b4a",
      "metadata": {
        "id": "b35eda1a-7ab8-4f3f-b9bf-cbb885486b4a"
      },
      "outputs": [],
      "source": [
        "dados_historicos = pd.concat(lista_tabelas)"
      ]
    },
    {
      "cell_type": "code",
      "execution_count": null,
      "id": "1e0a53f0-48fe-455b-a3a5-a3927b0f9a97",
      "metadata": {
        "id": "1e0a53f0-48fe-455b-a3a5-a3927b0f9a97"
      },
      "outputs": [],
      "source": [
        "dados_historicos"
      ]
    },
    {
      "cell_type": "markdown",
      "id": "7cd351f8-97ca-47cf-abf1-59c2bbf19aff",
      "metadata": {
        "id": "7cd351f8-97ca-47cf-abf1-59c2bbf19aff"
      },
      "source": [
        "# Dados OHLC"
      ]
    },
    {
      "cell_type": "code",
      "execution_count": null,
      "id": "a5e56076-64e8-4504-9513-4dff56e2da21",
      "metadata": {
        "id": "a5e56076-64e8-4504-9513-4dff56e2da21"
      },
      "outputs": [],
      "source": [
        "params = {\n",
        "    \"vs_currency\": \"usd\",  # Moeda de comparação (ex.: USD, EUR)\n",
        "    \"days\": 1           # Período: 1, 7, 14, 30, 90, 180, 365 ou \"max\"\n",
        "}"
      ]
    },
    {
      "cell_type": "code",
      "execution_count": null,
      "id": "5c44d912-9cc0-449d-aaff-110e74f1ae08",
      "metadata": {
        "id": "5c44d912-9cc0-449d-aaff-110e74f1ae08"
      },
      "outputs": [],
      "source": [
        "lista_tabelas = []\n",
        "\n",
        "for cripto in criptos:\n",
        "\n",
        "    print(cripto)\n",
        "\n",
        "    url = f\"https://api.coingecko.com/api/v3/coins/{cripto}/ohlc\"\n",
        "\n",
        "    resposta = requests.get(url, params=params, headers=headers)\n",
        "\n",
        "    dados = resposta.json()\n",
        "\n",
        "    df = pd.DataFrame(dados, columns=['timestamp', 'open', \"high\", \"low\", \"close\"])\n",
        "    df['timestamp'] = pd.to_datetime(df['timestamp'], unit='ms')\n",
        "    df['crypto'] = cripto\n",
        "    lista_tabelas.append(df)"
      ]
    },
    {
      "cell_type": "code",
      "execution_count": null,
      "id": "8698218a-193c-4832-adbb-ba511f4c18c3",
      "metadata": {
        "id": "8698218a-193c-4832-adbb-ba511f4c18c3"
      },
      "outputs": [],
      "source": [
        "dados_ohlc = pd.concat(lista_tabelas)\n",
        "dados_ohlc"
      ]
    },
    {
      "cell_type": "code",
      "execution_count": null,
      "id": "3350d467-83c8-4577-afff-268e496c41d5",
      "metadata": {
        "id": "3350d467-83c8-4577-afff-268e496c41d5"
      },
      "outputs": [],
      "source": []
    },
    {
      "cell_type": "code",
      "execution_count": null,
      "id": "7bd06149-0370-4045-8065-46f3921108a6",
      "metadata": {
        "id": "7bd06149-0370-4045-8065-46f3921108a6"
      },
      "outputs": [],
      "source": []
    },
    {
      "cell_type": "code",
      "execution_count": null,
      "id": "8ff6adb0-670e-42cb-bd3a-a34c9f44d952",
      "metadata": {
        "id": "8ff6adb0-670e-42cb-bd3a-a34c9f44d952"
      },
      "outputs": [],
      "source": []
    },
    {
      "cell_type": "code",
      "execution_count": null,
      "id": "b7723630-9844-4a6d-ac90-cf232d06d3aa",
      "metadata": {
        "id": "b7723630-9844-4a6d-ac90-cf232d06d3aa"
      },
      "outputs": [],
      "source": []
    },
    {
      "cell_type": "code",
      "execution_count": null,
      "id": "563b4266-1ee8-4fba-a748-cc3ac3ee4a6a",
      "metadata": {
        "id": "563b4266-1ee8-4fba-a748-cc3ac3ee4a6a"
      },
      "outputs": [],
      "source": []
    },
    {
      "cell_type": "code",
      "execution_count": null,
      "id": "04faaf58-9259-495a-9e40-d73f2be4298d",
      "metadata": {
        "id": "04faaf58-9259-495a-9e40-d73f2be4298d"
      },
      "outputs": [],
      "source": []
    },
    {
      "cell_type": "code",
      "execution_count": null,
      "id": "27224222-9d10-47bd-81b9-bacccd689ce6",
      "metadata": {
        "id": "27224222-9d10-47bd-81b9-bacccd689ce6"
      },
      "outputs": [],
      "source": []
    },
    {
      "cell_type": "code",
      "execution_count": null,
      "id": "a4c2c680-6ad5-412c-af21-97539fe7a237",
      "metadata": {
        "id": "a4c2c680-6ad5-412c-af21-97539fe7a237"
      },
      "outputs": [],
      "source": []
    },
    {
      "cell_type": "code",
      "execution_count": null,
      "id": "8c744ba6-d098-40ac-9158-b44e925218fa",
      "metadata": {
        "id": "8c744ba6-d098-40ac-9158-b44e925218fa"
      },
      "outputs": [],
      "source": []
    },
    {
      "cell_type": "code",
      "execution_count": null,
      "id": "7854caa8-3b11-4ae8-b15e-9f71ae78e9a6",
      "metadata": {
        "id": "7854caa8-3b11-4ae8-b15e-9f71ae78e9a6"
      },
      "outputs": [],
      "source": []
    },
    {
      "cell_type": "code",
      "execution_count": null,
      "id": "0085f80e-060b-40ab-934d-2042038a4ea7",
      "metadata": {
        "id": "0085f80e-060b-40ab-934d-2042038a4ea7"
      },
      "outputs": [],
      "source": []
    },
    {
      "cell_type": "code",
      "execution_count": null,
      "id": "63f4e68d-4c95-41f9-abee-9c1633e18162",
      "metadata": {
        "id": "63f4e68d-4c95-41f9-abee-9c1633e18162"
      },
      "outputs": [],
      "source": []
    },
    {
      "cell_type": "code",
      "execution_count": null,
      "id": "82fe2dc2-0fa1-48e7-9722-45d43b96b8f9",
      "metadata": {
        "id": "82fe2dc2-0fa1-48e7-9722-45d43b96b8f9"
      },
      "outputs": [],
      "source": []
    },
    {
      "cell_type": "code",
      "execution_count": null,
      "id": "6a9f1074-931e-4ff7-b81e-133720cd5fe0",
      "metadata": {
        "id": "6a9f1074-931e-4ff7-b81e-133720cd5fe0"
      },
      "outputs": [],
      "source": []
    },
    {
      "cell_type": "code",
      "execution_count": null,
      "id": "33baab43-718e-46c9-9cd7-bc472dd5c0fe",
      "metadata": {
        "id": "33baab43-718e-46c9-9cd7-bc472dd5c0fe"
      },
      "outputs": [],
      "source": []
    },
    {
      "cell_type": "code",
      "execution_count": null,
      "id": "b9bd84e6-1d07-408b-9a8b-53d41773c8e9",
      "metadata": {
        "id": "b9bd84e6-1d07-408b-9a8b-53d41773c8e9"
      },
      "outputs": [],
      "source": []
    },
    {
      "cell_type": "code",
      "execution_count": null,
      "id": "a97da4ac-30de-42bb-8739-619a3ee3c6cb",
      "metadata": {
        "id": "a97da4ac-30de-42bb-8739-619a3ee3c6cb"
      },
      "outputs": [],
      "source": []
    },
    {
      "cell_type": "code",
      "execution_count": null,
      "id": "e39667bb-ceb4-4333-ab0f-41bb02ae65ca",
      "metadata": {
        "id": "e39667bb-ceb4-4333-ab0f-41bb02ae65ca"
      },
      "outputs": [],
      "source": []
    },
    {
      "cell_type": "code",
      "execution_count": null,
      "id": "e3b7c3e0-7393-467a-9673-0aab950b083a",
      "metadata": {
        "id": "e3b7c3e0-7393-467a-9673-0aab950b083a"
      },
      "outputs": [],
      "source": []
    },
    {
      "cell_type": "code",
      "execution_count": null,
      "id": "96bd39b0-9911-4e94-8c70-e6ee3d6f1ee0",
      "metadata": {
        "id": "96bd39b0-9911-4e94-8c70-e6ee3d6f1ee0"
      },
      "outputs": [],
      "source": []
    },
    {
      "cell_type": "code",
      "execution_count": null,
      "id": "ee722035-c393-45d4-84fd-b95d5da996be",
      "metadata": {
        "id": "ee722035-c393-45d4-84fd-b95d5da996be"
      },
      "outputs": [],
      "source": []
    },
    {
      "cell_type": "code",
      "execution_count": null,
      "id": "57ed9265-fb0b-4f5b-a26b-12c780d77fd6",
      "metadata": {
        "id": "57ed9265-fb0b-4f5b-a26b-12c780d77fd6"
      },
      "outputs": [],
      "source": []
    },
    {
      "cell_type": "code",
      "execution_count": null,
      "id": "823ea6d2-6359-411c-a548-229d3fafe787",
      "metadata": {
        "id": "823ea6d2-6359-411c-a548-229d3fafe787"
      },
      "outputs": [],
      "source": []
    }
  ],
  "metadata": {
    "kernelspec": {
      "display_name": "Python 3 (ipykernel)",
      "language": "python",
      "name": "python3"
    },
    "language_info": {
      "codemirror_mode": {
        "name": "ipython",
        "version": 3
      },
      "file_extension": ".py",
      "mimetype": "text/x-python",
      "name": "python",
      "nbconvert_exporter": "python",
      "pygments_lexer": "ipython3",
      "version": "3.11.7"
    },
    "colab": {
      "provenance": [],
      "include_colab_link": true
    }
  },
  "nbformat": 4,
  "nbformat_minor": 5
}