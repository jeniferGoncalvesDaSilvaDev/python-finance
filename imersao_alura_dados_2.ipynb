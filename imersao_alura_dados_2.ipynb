{
  "cells": [
    {
      "cell_type": "markdown",
      "metadata": {
        "id": "view-in-github",
        "colab_type": "text"
      },
      "source": [
        "<a href=\"https://colab.research.google.com/github/jeniferGoncalvesDaSilvaDev/python-finance/blob/main/imersao_alura_dados_2.ipynb\" target=\"_parent\"><img src=\"https://colab.research.google.com/assets/colab-badge.svg\" alt=\"Open In Colab\"/></a>"
      ]
    },
    {
      "cell_type": "code",
      "execution_count": 1,
      "metadata": {
        "id": "-0jpa2zGqmTm"
      },
      "outputs": [],
      "source": [
        "import pandas as pd\n",
        "import matplotlib.pyplot as plt\n",
        "from scipy.stats import bernoulli\n",
        "import statistics as st\n",
        "import numpy as np"
      ]
    },
    {
      "cell_type": "code",
      "execution_count": 51,
      "metadata": {
        "colab": {
          "base_uri": "https://localhost:8080/",
          "height": 425
        },
        "id": "YO44oYkk1LMv",
        "outputId": "01c38508-7e10-4f5c-b05a-dd37fcd8d785"
      },
      "outputs": [
        {
          "output_type": "display_data",
          "data": {
            "text/plain": [
              "   Ativo       Data  Último (R$)  Var. Dia (%)  Var. Sem. (%)  Var. Mês (%)  \\\n",
              "0  USIM5 2024-01-26         9.50          5.20          11.76          2.26   \n",
              "1  CMIN3 2024-01-26         6.82          2.40           2.40        -12.11   \n",
              "2  PETR3 2024-01-26        41.96          2.19           7.73          7.64   \n",
              "3  SUZB3 2024-01-26        52.91          2.04           2.14         -4.89   \n",
              "4  CPFE3 2024-01-26        37.10          2.03           2.49         -3.66   \n",
              "5  PRIO3 2024-01-26        45.69          1.98           2.42         -0.78   \n",
              "\n",
              "   Var. Ano (%)  Var. 12M (%)  Val. Mín  Val. Máx  ...  Variação $.2  \\\n",
              "0          2.26         15.97      9.18      9.56  ...  1.081515e+08   \n",
              "1        -12.11         50.56      6.66      6.86  ... -1.043592e+09   \n",
              "2          7.64         77.55     40.81     42.34  ...  7.087773e+09   \n",
              "3         -4.89         18.85     51.89     53.17  ... -1.859212e+09   \n",
              "4         -3.66         20.70     36.37     37.32  ... -2.645988e+08   \n",
              "5         -0.78          8.08     44.25     45.69  ... -2.873508e+08   \n",
              "\n",
              "   Resultado.2  Variação Ano %  Valor Inicial (R$).3  Variação $.3  \\\n",
              "0        Subiu          0.0226              9.290045  1.081515e+08   \n",
              "1       Desceu         -0.1211              7.759700 -1.043592e+09   \n",
              "2        Subiu          0.0764             38.981791  7.087773e+09   \n",
              "3       Desceu         -0.0489             55.630323 -1.859212e+09   \n",
              "4       Desceu         -0.0366             38.509446 -2.645988e+08   \n",
              "5       Desceu         -0.0078             46.049184 -2.873508e+08   \n",
              "\n",
              "  Resultado.3  Variação 12M %  Valor Inicial (R$).4  Variação $.4 Resultado.4  \n",
              "0       Subiu          0.1597              8.191774  6.738901e+08       Subiu  \n",
              "1      Desceu          0.5056              4.529756  2.543452e+09       Subiu  \n",
              "2       Subiu          0.7755             23.632780  4.361654e+10       Subiu  \n",
              "3      Desceu          0.1885             44.518300  5.735331e+09       Subiu  \n",
              "4      Desceu          0.2070             30.737365  1.194474e+09       Subiu  \n",
              "5      Desceu          0.0808             42.274241  2.732644e+09       Subiu  \n",
              "\n",
              "[6 rows x 32 columns]"
            ],
            "text/html": [
              "\n",
              "  <div id=\"df-bb3256cb-158a-4bdb-b456-c79db1e6bc2e\" class=\"colab-df-container\">\n",
              "    <div>\n",
              "<style scoped>\n",
              "    .dataframe tbody tr th:only-of-type {\n",
              "        vertical-align: middle;\n",
              "    }\n",
              "\n",
              "    .dataframe tbody tr th {\n",
              "        vertical-align: top;\n",
              "    }\n",
              "\n",
              "    .dataframe thead th {\n",
              "        text-align: right;\n",
              "    }\n",
              "</style>\n",
              "<table border=\"1\" class=\"dataframe\">\n",
              "  <thead>\n",
              "    <tr style=\"text-align: right;\">\n",
              "      <th></th>\n",
              "      <th>Ativo</th>\n",
              "      <th>Data</th>\n",
              "      <th>Último (R$)</th>\n",
              "      <th>Var. Dia (%)</th>\n",
              "      <th>Var. Sem. (%)</th>\n",
              "      <th>Var. Mês (%)</th>\n",
              "      <th>Var. Ano (%)</th>\n",
              "      <th>Var. 12M (%)</th>\n",
              "      <th>Val. Mín</th>\n",
              "      <th>Val. Máx</th>\n",
              "      <th>...</th>\n",
              "      <th>Variação $.2</th>\n",
              "      <th>Resultado.2</th>\n",
              "      <th>Variação Ano %</th>\n",
              "      <th>Valor Inicial (R$).3</th>\n",
              "      <th>Variação $.3</th>\n",
              "      <th>Resultado.3</th>\n",
              "      <th>Variação 12M %</th>\n",
              "      <th>Valor Inicial (R$).4</th>\n",
              "      <th>Variação $.4</th>\n",
              "      <th>Resultado.4</th>\n",
              "    </tr>\n",
              "  </thead>\n",
              "  <tbody>\n",
              "    <tr>\n",
              "      <th>0</th>\n",
              "      <td>USIM5</td>\n",
              "      <td>2024-01-26</td>\n",
              "      <td>9.50</td>\n",
              "      <td>5.20</td>\n",
              "      <td>11.76</td>\n",
              "      <td>2.26</td>\n",
              "      <td>2.26</td>\n",
              "      <td>15.97</td>\n",
              "      <td>9.18</td>\n",
              "      <td>9.56</td>\n",
              "      <td>...</td>\n",
              "      <td>1.081515e+08</td>\n",
              "      <td>Subiu</td>\n",
              "      <td>0.0226</td>\n",
              "      <td>9.290045</td>\n",
              "      <td>1.081515e+08</td>\n",
              "      <td>Subiu</td>\n",
              "      <td>0.1597</td>\n",
              "      <td>8.191774</td>\n",
              "      <td>6.738901e+08</td>\n",
              "      <td>Subiu</td>\n",
              "    </tr>\n",
              "    <tr>\n",
              "      <th>1</th>\n",
              "      <td>CMIN3</td>\n",
              "      <td>2024-01-26</td>\n",
              "      <td>6.82</td>\n",
              "      <td>2.40</td>\n",
              "      <td>2.40</td>\n",
              "      <td>-12.11</td>\n",
              "      <td>-12.11</td>\n",
              "      <td>50.56</td>\n",
              "      <td>6.66</td>\n",
              "      <td>6.86</td>\n",
              "      <td>...</td>\n",
              "      <td>-1.043592e+09</td>\n",
              "      <td>Desceu</td>\n",
              "      <td>-0.1211</td>\n",
              "      <td>7.759700</td>\n",
              "      <td>-1.043592e+09</td>\n",
              "      <td>Desceu</td>\n",
              "      <td>0.5056</td>\n",
              "      <td>4.529756</td>\n",
              "      <td>2.543452e+09</td>\n",
              "      <td>Subiu</td>\n",
              "    </tr>\n",
              "    <tr>\n",
              "      <th>2</th>\n",
              "      <td>PETR3</td>\n",
              "      <td>2024-01-26</td>\n",
              "      <td>41.96</td>\n",
              "      <td>2.19</td>\n",
              "      <td>7.73</td>\n",
              "      <td>7.64</td>\n",
              "      <td>7.64</td>\n",
              "      <td>77.55</td>\n",
              "      <td>40.81</td>\n",
              "      <td>42.34</td>\n",
              "      <td>...</td>\n",
              "      <td>7.087773e+09</td>\n",
              "      <td>Subiu</td>\n",
              "      <td>0.0764</td>\n",
              "      <td>38.981791</td>\n",
              "      <td>7.087773e+09</td>\n",
              "      <td>Subiu</td>\n",
              "      <td>0.7755</td>\n",
              "      <td>23.632780</td>\n",
              "      <td>4.361654e+10</td>\n",
              "      <td>Subiu</td>\n",
              "    </tr>\n",
              "    <tr>\n",
              "      <th>3</th>\n",
              "      <td>SUZB3</td>\n",
              "      <td>2024-01-26</td>\n",
              "      <td>52.91</td>\n",
              "      <td>2.04</td>\n",
              "      <td>2.14</td>\n",
              "      <td>-4.89</td>\n",
              "      <td>-4.89</td>\n",
              "      <td>18.85</td>\n",
              "      <td>51.89</td>\n",
              "      <td>53.17</td>\n",
              "      <td>...</td>\n",
              "      <td>-1.859212e+09</td>\n",
              "      <td>Desceu</td>\n",
              "      <td>-0.0489</td>\n",
              "      <td>55.630323</td>\n",
              "      <td>-1.859212e+09</td>\n",
              "      <td>Desceu</td>\n",
              "      <td>0.1885</td>\n",
              "      <td>44.518300</td>\n",
              "      <td>5.735331e+09</td>\n",
              "      <td>Subiu</td>\n",
              "    </tr>\n",
              "    <tr>\n",
              "      <th>4</th>\n",
              "      <td>CPFE3</td>\n",
              "      <td>2024-01-26</td>\n",
              "      <td>37.10</td>\n",
              "      <td>2.03</td>\n",
              "      <td>2.49</td>\n",
              "      <td>-3.66</td>\n",
              "      <td>-3.66</td>\n",
              "      <td>20.70</td>\n",
              "      <td>36.37</td>\n",
              "      <td>37.32</td>\n",
              "      <td>...</td>\n",
              "      <td>-2.645988e+08</td>\n",
              "      <td>Desceu</td>\n",
              "      <td>-0.0366</td>\n",
              "      <td>38.509446</td>\n",
              "      <td>-2.645988e+08</td>\n",
              "      <td>Desceu</td>\n",
              "      <td>0.2070</td>\n",
              "      <td>30.737365</td>\n",
              "      <td>1.194474e+09</td>\n",
              "      <td>Subiu</td>\n",
              "    </tr>\n",
              "    <tr>\n",
              "      <th>5</th>\n",
              "      <td>PRIO3</td>\n",
              "      <td>2024-01-26</td>\n",
              "      <td>45.69</td>\n",
              "      <td>1.98</td>\n",
              "      <td>2.42</td>\n",
              "      <td>-0.78</td>\n",
              "      <td>-0.78</td>\n",
              "      <td>8.08</td>\n",
              "      <td>44.25</td>\n",
              "      <td>45.69</td>\n",
              "      <td>...</td>\n",
              "      <td>-2.873508e+08</td>\n",
              "      <td>Desceu</td>\n",
              "      <td>-0.0078</td>\n",
              "      <td>46.049184</td>\n",
              "      <td>-2.873508e+08</td>\n",
              "      <td>Desceu</td>\n",
              "      <td>0.0808</td>\n",
              "      <td>42.274241</td>\n",
              "      <td>2.732644e+09</td>\n",
              "      <td>Subiu</td>\n",
              "    </tr>\n",
              "  </tbody>\n",
              "</table>\n",
              "<p>6 rows × 32 columns</p>\n",
              "</div>\n",
              "    <div class=\"colab-df-buttons\">\n",
              "\n",
              "  <div class=\"colab-df-container\">\n",
              "    <button class=\"colab-df-convert\" onclick=\"convertToInteractive('df-bb3256cb-158a-4bdb-b456-c79db1e6bc2e')\"\n",
              "            title=\"Convert this dataframe to an interactive table.\"\n",
              "            style=\"display:none;\">\n",
              "\n",
              "  <svg xmlns=\"http://www.w3.org/2000/svg\" height=\"24px\" viewBox=\"0 -960 960 960\">\n",
              "    <path d=\"M120-120v-720h720v720H120Zm60-500h600v-160H180v160Zm220 220h160v-160H400v160Zm0 220h160v-160H400v160ZM180-400h160v-160H180v160Zm440 0h160v-160H620v160ZM180-180h160v-160H180v160Zm440 0h160v-160H620v160Z\"/>\n",
              "  </svg>\n",
              "    </button>\n",
              "\n",
              "  <style>\n",
              "    .colab-df-container {\n",
              "      display:flex;\n",
              "      gap: 12px;\n",
              "    }\n",
              "\n",
              "    .colab-df-convert {\n",
              "      background-color: #E8F0FE;\n",
              "      border: none;\n",
              "      border-radius: 50%;\n",
              "      cursor: pointer;\n",
              "      display: none;\n",
              "      fill: #1967D2;\n",
              "      height: 32px;\n",
              "      padding: 0 0 0 0;\n",
              "      width: 32px;\n",
              "    }\n",
              "\n",
              "    .colab-df-convert:hover {\n",
              "      background-color: #E2EBFA;\n",
              "      box-shadow: 0px 1px 2px rgba(60, 64, 67, 0.3), 0px 1px 3px 1px rgba(60, 64, 67, 0.15);\n",
              "      fill: #174EA6;\n",
              "    }\n",
              "\n",
              "    .colab-df-buttons div {\n",
              "      margin-bottom: 4px;\n",
              "    }\n",
              "\n",
              "    [theme=dark] .colab-df-convert {\n",
              "      background-color: #3B4455;\n",
              "      fill: #D2E3FC;\n",
              "    }\n",
              "\n",
              "    [theme=dark] .colab-df-convert:hover {\n",
              "      background-color: #434B5C;\n",
              "      box-shadow: 0px 1px 3px 1px rgba(0, 0, 0, 0.15);\n",
              "      filter: drop-shadow(0px 1px 2px rgba(0, 0, 0, 0.3));\n",
              "      fill: #FFFFFF;\n",
              "    }\n",
              "  </style>\n",
              "\n",
              "    <script>\n",
              "      const buttonEl =\n",
              "        document.querySelector('#df-bb3256cb-158a-4bdb-b456-c79db1e6bc2e button.colab-df-convert');\n",
              "      buttonEl.style.display =\n",
              "        google.colab.kernel.accessAllowed ? 'block' : 'none';\n",
              "\n",
              "      async function convertToInteractive(key) {\n",
              "        const element = document.querySelector('#df-bb3256cb-158a-4bdb-b456-c79db1e6bc2e');\n",
              "        const dataTable =\n",
              "          await google.colab.kernel.invokeFunction('convertToInteractive',\n",
              "                                                    [key], {});\n",
              "        if (!dataTable) return;\n",
              "\n",
              "        const docLinkHtml = 'Like what you see? Visit the ' +\n",
              "          '<a target=\"_blank\" href=https://colab.research.google.com/notebooks/data_table.ipynb>data table notebook</a>'\n",
              "          + ' to learn more about interactive tables.';\n",
              "        element.innerHTML = '';\n",
              "        dataTable['output_type'] = 'display_data';\n",
              "        await google.colab.output.renderOutput(dataTable, element);\n",
              "        const docLink = document.createElement('div');\n",
              "        docLink.innerHTML = docLinkHtml;\n",
              "        element.appendChild(docLink);\n",
              "      }\n",
              "    </script>\n",
              "  </div>\n",
              "\n",
              "\n",
              "<div id=\"df-de26b960-efeb-45b5-9411-f30216f38e8b\">\n",
              "  <button class=\"colab-df-quickchart\" onclick=\"quickchart('df-de26b960-efeb-45b5-9411-f30216f38e8b')\"\n",
              "            title=\"Suggest charts\"\n",
              "            style=\"display:none;\">\n",
              "\n",
              "<svg xmlns=\"http://www.w3.org/2000/svg\" height=\"24px\"viewBox=\"0 0 24 24\"\n",
              "     width=\"24px\">\n",
              "    <g>\n",
              "        <path d=\"M19 3H5c-1.1 0-2 .9-2 2v14c0 1.1.9 2 2 2h14c1.1 0 2-.9 2-2V5c0-1.1-.9-2-2-2zM9 17H7v-7h2v7zm4 0h-2V7h2v10zm4 0h-2v-4h2v4z\"/>\n",
              "    </g>\n",
              "</svg>\n",
              "  </button>\n",
              "\n",
              "<style>\n",
              "  .colab-df-quickchart {\n",
              "      --bg-color: #E8F0FE;\n",
              "      --fill-color: #1967D2;\n",
              "      --hover-bg-color: #E2EBFA;\n",
              "      --hover-fill-color: #174EA6;\n",
              "      --disabled-fill-color: #AAA;\n",
              "      --disabled-bg-color: #DDD;\n",
              "  }\n",
              "\n",
              "  [theme=dark] .colab-df-quickchart {\n",
              "      --bg-color: #3B4455;\n",
              "      --fill-color: #D2E3FC;\n",
              "      --hover-bg-color: #434B5C;\n",
              "      --hover-fill-color: #FFFFFF;\n",
              "      --disabled-bg-color: #3B4455;\n",
              "      --disabled-fill-color: #666;\n",
              "  }\n",
              "\n",
              "  .colab-df-quickchart {\n",
              "    background-color: var(--bg-color);\n",
              "    border: none;\n",
              "    border-radius: 50%;\n",
              "    cursor: pointer;\n",
              "    display: none;\n",
              "    fill: var(--fill-color);\n",
              "    height: 32px;\n",
              "    padding: 0;\n",
              "    width: 32px;\n",
              "  }\n",
              "\n",
              "  .colab-df-quickchart:hover {\n",
              "    background-color: var(--hover-bg-color);\n",
              "    box-shadow: 0 1px 2px rgba(60, 64, 67, 0.3), 0 1px 3px 1px rgba(60, 64, 67, 0.15);\n",
              "    fill: var(--button-hover-fill-color);\n",
              "  }\n",
              "\n",
              "  .colab-df-quickchart-complete:disabled,\n",
              "  .colab-df-quickchart-complete:disabled:hover {\n",
              "    background-color: var(--disabled-bg-color);\n",
              "    fill: var(--disabled-fill-color);\n",
              "    box-shadow: none;\n",
              "  }\n",
              "\n",
              "  .colab-df-spinner {\n",
              "    border: 2px solid var(--fill-color);\n",
              "    border-color: transparent;\n",
              "    border-bottom-color: var(--fill-color);\n",
              "    animation:\n",
              "      spin 1s steps(1) infinite;\n",
              "  }\n",
              "\n",
              "  @keyframes spin {\n",
              "    0% {\n",
              "      border-color: transparent;\n",
              "      border-bottom-color: var(--fill-color);\n",
              "      border-left-color: var(--fill-color);\n",
              "    }\n",
              "    20% {\n",
              "      border-color: transparent;\n",
              "      border-left-color: var(--fill-color);\n",
              "      border-top-color: var(--fill-color);\n",
              "    }\n",
              "    30% {\n",
              "      border-color: transparent;\n",
              "      border-left-color: var(--fill-color);\n",
              "      border-top-color: var(--fill-color);\n",
              "      border-right-color: var(--fill-color);\n",
              "    }\n",
              "    40% {\n",
              "      border-color: transparent;\n",
              "      border-right-color: var(--fill-color);\n",
              "      border-top-color: var(--fill-color);\n",
              "    }\n",
              "    60% {\n",
              "      border-color: transparent;\n",
              "      border-right-color: var(--fill-color);\n",
              "    }\n",
              "    80% {\n",
              "      border-color: transparent;\n",
              "      border-right-color: var(--fill-color);\n",
              "      border-bottom-color: var(--fill-color);\n",
              "    }\n",
              "    90% {\n",
              "      border-color: transparent;\n",
              "      border-bottom-color: var(--fill-color);\n",
              "    }\n",
              "  }\n",
              "</style>\n",
              "\n",
              "  <script>\n",
              "    async function quickchart(key) {\n",
              "      const quickchartButtonEl =\n",
              "        document.querySelector('#' + key + ' button');\n",
              "      quickchartButtonEl.disabled = true;  // To prevent multiple clicks.\n",
              "      quickchartButtonEl.classList.add('colab-df-spinner');\n",
              "      try {\n",
              "        const charts = await google.colab.kernel.invokeFunction(\n",
              "            'suggestCharts', [key], {});\n",
              "      } catch (error) {\n",
              "        console.error('Error during call to suggestCharts:', error);\n",
              "      }\n",
              "      quickchartButtonEl.classList.remove('colab-df-spinner');\n",
              "      quickchartButtonEl.classList.add('colab-df-quickchart-complete');\n",
              "    }\n",
              "    (() => {\n",
              "      let quickchartButtonEl =\n",
              "        document.querySelector('#df-de26b960-efeb-45b5-9411-f30216f38e8b button');\n",
              "      quickchartButtonEl.style.display =\n",
              "        google.colab.kernel.accessAllowed ? 'block' : 'none';\n",
              "    })();\n",
              "  </script>\n",
              "</div>\n",
              "\n",
              "    </div>\n",
              "  </div>\n"
            ],
            "application/vnd.google.colaboratory.intrinsic+json": {
              "type": "dataframe"
            }
          },
          "metadata": {}
        }
      ],
      "source": [
        "df = pd.read_excel('/content/drive/MyDrive/Colab Notebooks/acoes-b3-df.xlsx')\n",
        "display(df.head(6))"
      ]
    },
    {
      "cell_type": "code",
      "execution_count": 3,
      "metadata": {
        "colab": {
          "base_uri": "https://localhost:8080/"
        },
        "id": "pKwJdcb-5HFD",
        "outputId": "e823e15c-ddb8-4dcc-965e-91855e220179"
      },
      "outputs": [
        {
          "output_type": "stream",
          "name": "stdout",
          "text": [
            "    Valor Inicial (R$).3  Ativo\n",
            "0               9.290045  USIM5\n",
            "1               7.759700  CMIN3\n",
            "2              38.981791  PETR3\n",
            "3              55.630323  SUZB3\n",
            "4              38.509446  CPFE3\n",
            "..                   ...    ...\n",
            "76             12.450593  CRFB3\n",
            "77             11.379987  BHIA3\n",
            "78             63.598326  RENT3\n",
            "79              3.500171  CVCB3\n",
            "80              8.969697  GOLL4\n",
            "\n",
            "[81 rows x 2 columns]\n"
          ]
        }
      ],
      "source": [
        "valor_inicial_3 = df[['Valor Inicial (R$).3','Ativo']]\n",
        "print(valor_inicial_3)"
      ]
    },
    {
      "cell_type": "code",
      "execution_count": 4,
      "metadata": {
        "colab": {
          "base_uri": "https://localhost:8080/"
        },
        "id": "puYMc2nm4qua",
        "outputId": "1c154c8a-161c-43e4-b60b-3e088ef42145"
      },
      "outputs": [
        {
          "output_type": "execute_result",
          "data": {
            "text/plain": [
              "0     1.081515e+08\n",
              "1    -1.043592e+09\n",
              "2     7.087773e+09\n",
              "3    -1.859212e+09\n",
              "4    -2.645988e+08\n",
              "          ...     \n",
              "76   -9.294602e+08\n",
              "77   -2.541781e+08\n",
              "78   -6.278141e+09\n",
              "79   -2.260905e+08\n",
              "80   -6.044039e+08\n",
              "Name: Variação $.2, Length: 81, dtype: float64"
            ]
          },
          "metadata": {},
          "execution_count": 4
        }
      ],
      "source": [
        "variacao = df[\"Variação $.2\"]\n",
        "variacao"
      ]
    },
    {
      "cell_type": "code",
      "source": [
        "resultado = df.loc[0:5,'Resultado.3']\n",
        "#resultado = resultado.tolist()\n",
        "print(resultado)"
      ],
      "metadata": {
        "colab": {
          "base_uri": "https://localhost:8080/"
        },
        "id": "Xuj8a0ShVpcO",
        "outputId": "20c868ba-c737-472f-aaa8-5f2f00494438"
      },
      "execution_count": 5,
      "outputs": [
        {
          "output_type": "stream",
          "name": "stdout",
          "text": [
            "0     Subiu\n",
            "1    Desceu\n",
            "2     Subiu\n",
            "3    Desceu\n",
            "4    Desceu\n",
            "5    Desceu\n",
            "Name: Resultado.3, dtype: object\n"
          ]
        }
      ]
    },
    {
      "cell_type": "code",
      "source": [
        "ativo = df.loc[0:5,\"Ativo\"]\n",
        "print(ativo)"
      ],
      "metadata": {
        "colab": {
          "base_uri": "https://localhost:8080/"
        },
        "id": "Pzba4z3oWlTA",
        "outputId": "63f2d301-7f79-4f05-c3b3-958eb79f7995"
      },
      "execution_count": 6,
      "outputs": [
        {
          "output_type": "stream",
          "name": "stdout",
          "text": [
            "0    USIM5\n",
            "1    CMIN3\n",
            "2    PETR3\n",
            "3    SUZB3\n",
            "4    CPFE3\n",
            "5    PRIO3\n",
            "Name: Ativo, dtype: object\n"
          ]
        }
      ]
    },
    {
      "cell_type": "code",
      "execution_count": 7,
      "metadata": {
        "colab": {
          "base_uri": "https://localhost:8080/",
          "height": 275
        },
        "id": "Ib2XSy1G5vZS",
        "outputId": "b1eb0b88-05e8-43e5-f59f-7c8d14815bde"
      },
      "outputs": [
        {
          "output_type": "execute_result",
          "data": {
            "text/plain": [
              "Text(0, 0.5, 'variação da ação')"
            ]
          },
          "metadata": {},
          "execution_count": 7
        },
        {
          "output_type": "display_data",
          "data": {
            "text/plain": [
              "<Figure size 640x480 with 1 Axes>"
            ],
            "image/png": "[encoded data removed]"
          },
          "metadata": {}
        }
      ],
      "source": [
        "variacao = variacao[:6]\n",
        "plt.bar(ativo, variacao)\n",
        "plt.xlabel('ativo')\n",
        "plt.ylabel('variação da ação')"
      ]
    },
    {
      "cell_type": "code",
      "source": [
        "plt.bar(resultado,variacao)\n",
        "plt.xlabel('resultado')\n",
        "plt.ylabel('variação da ação')"
      ],
      "metadata": {
        "colab": {
          "base_uri": "https://localhost:8080/",
          "height": 275
        },
        "id": "zxuZyuVHW3ph",
        "outputId": "8940a674-31c6-4847-f72d-78205360bc66"
      },
      "execution_count": 8,
      "outputs": [
        {
          "output_type": "execute_result",
          "data": {
            "text/plain": [
              "Text(0, 0.5, 'variação da ação')"
            ]
          },
          "metadata": {},
          "execution_count": 8
        },
        {
          "output_type": "display_data",
          "data": {
            "text/plain": [
              "<Figure size 640x480 with 1 Axes>"
            ],
            "image/png": "[encoded data removed]"
          },
          "metadata": {}
        }
      ]
    },
    {
      "cell_type": "code",
      "source": [
        "valor_inicial = df.loc[0:5,'Valor Inicial (R$).3']\n",
        "print(valor_inicial)"
      ],
      "metadata": {
        "colab": {
          "base_uri": "https://localhost:8080/"
        },
        "id": "iF7KQGFdWut5",
        "outputId": "97a01a1a-a229-4925-cf5f-20e96442a80c"
      },
      "execution_count": 9,
      "outputs": [
        {
          "output_type": "stream",
          "name": "stdout",
          "text": [
            "0     9.290045\n",
            "1     7.759700\n",
            "2    38.981791\n",
            "3    55.630323\n",
            "4    38.509446\n",
            "5    46.049184\n",
            "Name: Valor Inicial (R$).3, dtype: float64\n"
          ]
        }
      ]
    },
    {
      "cell_type": "code",
      "source": [
        "plt.bar(ativo,valor_inicial)\n",
        "plt.xlabel('ativo')\n",
        "plt.ylabel('valor inicial')"
      ],
      "metadata": {
        "colab": {
          "base_uri": "https://localhost:8080/",
          "height": 268
        },
        "id": "P-TYEqBIXJg1",
        "outputId": "318b35f4-7d0c-40db-d071-dcf4847a599a"
      },
      "execution_count": 10,
      "outputs": [
        {
          "output_type": "execute_result",
          "data": {
            "text/plain": [
              "Text(0, 0.5, 'valor inicial')"
            ]
          },
          "metadata": {},
          "execution_count": 10
        },
        {
          "output_type": "display_data",
          "data": {
            "text/plain": [
              "<Figure size 640x480 with 1 Axes>"
            ],
            "image/png": "[encoded data removed]"
          },
          "metadata": {}
        }
      ]
    },
    {
      "cell_type": "code",
      "source": [
        "valor_final = df.loc[0:5,'Último (R$)']\n",
        "print(valor_final)"
      ],
      "metadata": {
        "colab": {
          "base_uri": "https://localhost:8080/"
        },
        "id": "gABRfkVGXzek",
        "outputId": "503ef0bf-9535-4f24-b504-031060285a46"
      },
      "execution_count": 11,
      "outputs": [
        {
          "output_type": "stream",
          "name": "stdout",
          "text": [
            "0     9.50\n",
            "1     6.82\n",
            "2    41.96\n",
            "3    52.91\n",
            "4    37.10\n",
            "5    45.69\n",
            "Name: Último (R$), dtype: float64\n"
          ]
        }
      ]
    },
    {
      "cell_type": "code",
      "source": [
        "plt.bar(ativo,valor_final)\n",
        "plt.xlabel('ativo')\n",
        "plt.ylabel('valor final')"
      ],
      "metadata": {
        "colab": {
          "base_uri": "https://localhost:8080/",
          "height": 268
        },
        "id": "RI4ByzTKYC9l",
        "outputId": "32e06083-6647-47fa-9be0-409105346ef8"
      },
      "execution_count": 12,
      "outputs": [
        {
          "output_type": "execute_result",
          "data": {
            "text/plain": [
              "Text(0, 0.5, 'valor final')"
            ]
          },
          "metadata": {},
          "execution_count": 12
        },
        {
          "output_type": "display_data",
          "data": {
            "text/plain": [
              "<Figure size 640x480 with 1 Axes>"
            ],
            "image/png": "[encoded data removed]"
          },
          "metadata": {}
        }
      ]
    },
    {
      "cell_type": "code",
      "source": [
        "media = st.mean(valor_inicial)\n",
        "dp = st.stdev(valor_inicial)\n",
        "moda = st.mode(valor_inicial)\n",
        "print(f'media: {media:.2f}')\n",
        "print(f'desvio padrão: {dp:.2f}')\n",
        "print(f'moda: {moda:.2f}')"
      ],
      "metadata": {
        "colab": {
          "base_uri": "https://localhost:8080/"
        },
        "id": "LWhQc2ypXc-k",
        "outputId": "3215cc59-6816-4da7-c790-9e00a4a64ee9"
      },
      "execution_count": 13,
      "outputs": [
        {
          "output_type": "stream",
          "name": "stdout",
          "text": [
            "media: 32.70\n",
            "desvio padrão: 19.73\n",
            "moda: 9.29\n"
          ]
        }
      ]
    },
    {
      "cell_type": "code",
      "source": [
        "media2 = st.mean(valor_final)\n",
        "dp2 = st.stdev(valor_final)\n",
        "moda2 = st.mode(valor_final)\n",
        "print(f'media: {media2:.2f}')\n",
        "print(f'desvio padrão: {dp2:.2f}')\n",
        "print(f'moda: {moda2:.2f}')"
      ],
      "metadata": {
        "id": "L4BJQLHyTJFE",
        "outputId": "df2379c9-3572-424b-9659-44654a18ad29",
        "colab": {
          "base_uri": "https://localhost:8080/"
        }
      },
      "execution_count": 14,
      "outputs": [
        {
          "output_type": "stream",
          "name": "stdout",
          "text": [
            "media: 32.33\n",
            "desvio padrão: 19.44\n",
            "moda: 9.50\n"
          ]
        }
      ]
    },
    {
      "cell_type": "code",
      "source": [
        "# Check if the column exists in the DataFrame\n",
        "if \"Valor Inicial (R$).3\" not in df.columns:\n",
        "    raise ValueError(\"Column 'Valor Inicial (R$).3' not found in the DataFrame\")\n",
        "\n",
        "# Check if the DataFrame is empty\n",
        "if df.empty:\n",
        "    raise ValueError(\"DataFrame is empty\")\n",
        "\n",
        "# Access the column safely\n",
        "maiores_valores_inicial = df[\"Valor Inicial (R$).3\"].idxmax()\n",
        "maiores_valores_inicial"
      ],
      "metadata": {
        "id": "qYI9tjElUpzT",
        "outputId": "0b1e0b2e-fe7f-408c-ed10-419598cbeab2",
        "colab": {
          "base_uri": "https://localhost:8080/"
        }
      },
      "execution_count": 40,
      "outputs": [
        {
          "output_type": "execute_result",
          "data": {
            "text/plain": [
              "7"
            ]
          },
          "metadata": {},
          "execution_count": 40
        }
      ]
    },
    {
      "cell_type": "code",
      "source": [
        "# Check if the column exists in the DataFrame\n",
        "if \"Último (R$)\" not in df.columns:\n",
        "    raise ValueError(\"Column 'Último (R$)' not found in the DataFrame\")\n",
        "\n",
        "# #Check if the DataFrame is empty\n",
        "if df.empty:\n",
        "    raise ValueError(\"DataFrame is empty\")\n",
        "\n",
        "# Access the column safely\n",
        "maiores_valores_inicial = df[\"Último (R$)\"].idxmax()\n",
        "maiores_valores_inicial"
      ],
      "metadata": {
        "id": "0FVDJPf6VCbL",
        "outputId": "483d1f40-09c9-46bf-b6cd-c7c3cea25a65",
        "colab": {
          "base_uri": "https://localhost:8080/"
        }
      },
      "execution_count": 43,
      "outputs": [
        {
          "output_type": "execute_result",
          "data": {
            "text/plain": [
              "47"
            ]
          },
          "metadata": {},
          "execution_count": 43
        }
      ]
    },
    {
      "cell_type": "code",
      "source": [
        "valor_inicial2=df[\"Valor Inicial (R$).3\"]\n",
        "valor_inicial2"
      ],
      "metadata": {
        "id": "hdtxxcpPVQRv",
        "outputId": "9ebf273e-3c6f-42ed-9926-d793820cef58",
        "colab": {
          "base_uri": "https://localhost:8080/"
        }
      },
      "execution_count": 45,
      "outputs": [
        {
          "output_type": "execute_result",
          "data": {
            "text/plain": [
              "0      9.290045\n",
              "1      7.759700\n",
              "2     38.981791\n",
              "3     55.630323\n",
              "4     38.509446\n",
              "        ...    \n",
              "76    12.450593\n",
              "77    11.379987\n",
              "78    63.598326\n",
              "79     3.500171\n",
              "80     8.969697\n",
              "Name: Valor Inicial (R$).3, Length: 81, dtype: float64"
            ]
          },
          "metadata": {},
          "execution_count": 45
        }
      ]
    },
    {
      "cell_type": "code",
      "source": [
        "maior_i=max(valor_inicial2)\n",
        "maior_i"
      ],
      "metadata": {
        "id": "X5cXNtiwV24K",
        "outputId": "3b6457a5-7f98-4d63-c129-429cc84836be",
        "colab": {
          "base_uri": "https://localhost:8080/"
        }
      },
      "execution_count": 46,
      "outputs": [
        {
          "output_type": "execute_result",
          "data": {
            "text/plain": [
              "77.19649006"
            ]
          },
          "metadata": {},
          "execution_count": 46
        }
      ]
    },
    {
      "cell_type": "code",
      "source": [
        "valor_final2=df[\"Último (R$)\"]\n",
        "valor_final2"
      ],
      "metadata": {
        "id": "C6c8xjD_WE9I",
        "outputId": "317df668-182c-4dfe-875d-a308dfe39796",
        "colab": {
          "base_uri": "https://localhost:8080/"
        }
      },
      "execution_count": 49,
      "outputs": [
        {
          "output_type": "execute_result",
          "data": {
            "text/plain": [
              "0      9.50\n",
              "1      6.82\n",
              "2     41.96\n",
              "3     52.91\n",
              "4     37.10\n",
              "      ...  \n",
              "76    10.71\n",
              "77     8.70\n",
              "78    56.24\n",
              "79     3.07\n",
              "80     5.92\n",
              "Name: Último (R$), Length: 81, dtype: float64"
            ]
          },
          "metadata": {},
          "execution_count": 49
        }
      ]
    },
    {
      "cell_type": "code",
      "source": [
        "maior_f=max(valor_final2)\n",
        "maior_f"
      ],
      "metadata": {
        "id": "jaXcBhXxWUVF",
        "outputId": "8049c6b5-49b6-41ce-cc02-d0409d029e50",
        "colab": {
          "base_uri": "https://localhost:8080/"
        }
      },
      "execution_count": 50,
      "outputs": [
        {
          "output_type": "execute_result",
          "data": {
            "text/plain": [
              "77.04"
            ]
          },
          "metadata": {},
          "execution_count": 50
        }
      ]
    },
    {
      "cell_type": "code",
      "source": [
        "maiores= df.loc[df[\"Valor Inicial (R$).3\"]>=32.70]\n",
        "maiores_i.head(5)"
      ],
      "metadata": {
        "id": "ndngm25PW6i-",
        "outputId": "ae1d20f8-1d3e-404c-9b0a-b107b123c735",
        "colab": {
          "base_uri": "https://localhost:8080/"
        }
      },
      "execution_count": 65,
      "outputs": [
        {
          "output_type": "execute_result",
          "data": {
            "text/plain": [
              "2    38.981791\n",
              "3    55.630323\n",
              "4    38.509446\n",
              "5    46.049184\n",
              "6    37.241379\n",
              "Name: Valor Inicial (R$).3, dtype: float64"
            ]
          },
          "metadata": {},
          "execution_count": 65
        }
      ]
    },
    {
      "cell_type": "code",
      "source": [
        "maiores_ultimo=maiores.loc[0:5,\"Último (R$)\"]\n",
        "maiores_ultimo"
      ],
      "metadata": {
        "id": "MHsa4wwDYF7V",
        "outputId": "a7581fb4-bb27-4e52-e59b-d36fe464022a",
        "colab": {
          "base_uri": "https://localhost:8080/"
        }
      },
      "execution_count": 82,
      "outputs": [
        {
          "output_type": "execute_result",
          "data": {
            "text/plain": [
              "2    41.96\n",
              "3    52.91\n",
              "4    37.10\n",
              "5    45.69\n",
              "Name: Último (R$), dtype: float64"
            ]
          },
          "metadata": {},
          "execution_count": 82
        }
      ]
    },
    {
      "cell_type": "code",
      "source": [
        "maiores_i=maiores.loc[0:5,\"Valor Inicial (R$).3\"]\n",
        "maiores_i"
      ],
      "metadata": {
        "id": "RdkmvIlUYY42",
        "outputId": "454be232-1fc6-4327-b9b8-a2e8c1d1c782",
        "colab": {
          "base_uri": "https://localhost:8080/"
        }
      },
      "execution_count": 76,
      "outputs": [
        {
          "output_type": "execute_result",
          "data": {
            "text/plain": [
              "2    38.981791\n",
              "3    55.630323\n",
              "4    38.509446\n",
              "5    46.049184\n",
              "Name: Valor Inicial (R$).3, dtype: float64"
            ]
          },
          "metadata": {},
          "execution_count": 76
        }
      ]
    },
    {
      "cell_type": "code",
      "source": [
        "maior_valor_ativo_i=maiores[[\"Valor Inicial (R$).3\", \"Ativo\"]]\n",
        "maior_valor_ativo_i.head(5)"
      ],
      "metadata": {
        "id": "hQ5nP26OZCe5",
        "outputId": "8fc9a4f1-77d7-42cd-e663-d9495df63891",
        "colab": {
          "base_uri": "https://localhost:8080/",
          "height": 223
        }
      },
      "execution_count": 70,
      "outputs": [
        {
          "output_type": "execute_result",
          "data": {
            "text/plain": [
              "   Valor Inicial (R$).3  Ativo\n",
              "2             38.981791  PETR3\n",
              "3             55.630323  SUZB3\n",
              "4             38.509446  CPFE3\n",
              "5             46.049184  PRIO3\n",
              "6             37.241379  PETR4"
            ],
            "text/html": [
              "\n",
              "  <div id=\"df-45527631-d32d-480b-b314-d76615b39f34\" class=\"colab-df-container\">\n",
              "    <div>\n",
              "<style scoped>\n",
              "    .dataframe tbody tr th:only-of-type {\n",
              "        vertical-align: middle;\n",
              "    }\n",
              "\n",
              "    .dataframe tbody tr th {\n",
              "        vertical-align: top;\n",
              "    }\n",
              "\n",
              "    .dataframe thead th {\n",
              "        text-align: right;\n",
              "    }\n",
              "</style>\n",
              "<table border=\"1\" class=\"dataframe\">\n",
              "  <thead>\n",
              "    <tr style=\"text-align: right;\">\n",
              "      <th></th>\n",
              "      <th>Valor Inicial (R$).3</th>\n",
              "      <th>Ativo</th>\n",
              "    </tr>\n",
              "  </thead>\n",
              "  <tbody>\n",
              "    <tr>\n",
              "      <th>2</th>\n",
              "      <td>38.981791</td>\n",
              "      <td>PETR3</td>\n",
              "    </tr>\n",
              "    <tr>\n",
              "      <th>3</th>\n",
              "      <td>55.630323</td>\n",
              "      <td>SUZB3</td>\n",
              "    </tr>\n",
              "    <tr>\n",
              "      <th>4</th>\n",
              "      <td>38.509446</td>\n",
              "      <td>CPFE3</td>\n",
              "    </tr>\n",
              "    <tr>\n",
              "      <th>5</th>\n",
              "      <td>46.049184</td>\n",
              "      <td>PRIO3</td>\n",
              "    </tr>\n",
              "    <tr>\n",
              "      <th>6</th>\n",
              "      <td>37.241379</td>\n",
              "      <td>PETR4</td>\n",
              "    </tr>\n",
              "  </tbody>\n",
              "</table>\n",
              "</div>\n",
              "    <div class=\"colab-df-buttons\">\n",
              "\n",
              "  <div class=\"colab-df-container\">\n",
              "    <button class=\"colab-df-convert\" onclick=\"convertToInteractive('df-45527631-d32d-480b-b314-d76615b39f34')\"\n",
              "            title=\"Convert this dataframe to an interactive table.\"\n",
              "            style=\"display:none;\">\n",
              "\n",
              "  <svg xmlns=\"http://www.w3.org/2000/svg\" height=\"24px\" viewBox=\"0 -960 960 960\">\n",
              "    <path d=\"M120-120v-720h720v720H120Zm60-500h600v-160H180v160Zm220 220h160v-160H400v160Zm0 220h160v-160H400v160ZM180-400h160v-160H180v160Zm440 0h160v-160H620v160ZM180-180h160v-160H180v160Zm440 0h160v-160H620v160Z\"/>\n",
              "  </svg>\n",
              "    </button>\n",
              "\n",
              "  <style>\n",
              "    .colab-df-container {\n",
              "      display:flex;\n",
              "      gap: 12px;\n",
              "    }\n",
              "\n",
              "    .colab-df-convert {\n",
              "      background-color: #E8F0FE;\n",
              "      border: none;\n",
              "      border-radius: 50%;\n",
              "      cursor: pointer;\n",
              "      display: none;\n",
              "      fill: #1967D2;\n",
              "      height: 32px;\n",
              "      padding: 0 0 0 0;\n",
              "      width: 32px;\n",
              "    }\n",
              "\n",
              "    .colab-df-convert:hover {\n",
              "      background-color: #E2EBFA;\n",
              "      box-shadow: 0px 1px 2px rgba(60, 64, 67, 0.3), 0px 1px 3px 1px rgba(60, 64, 67, 0.15);\n",
              "      fill: #174EA6;\n",
              "    }\n",
              "\n",
              "    .colab-df-buttons div {\n",
              "      margin-bottom: 4px;\n",
              "    }\n",
              "\n",
              "    [theme=dark] .colab-df-convert {\n",
              "      background-color: #3B4455;\n",
              "      fill: #D2E3FC;\n",
              "    }\n",
              "\n",
              "    [theme=dark] .colab-df-convert:hover {\n",
              "      background-color: #434B5C;\n",
              "      box-shadow: 0px 1px 3px 1px rgba(0, 0, 0, 0.15);\n",
              "      filter: drop-shadow(0px 1px 2px rgba(0, 0, 0, 0.3));\n",
              "      fill: #FFFFFF;\n",
              "    }\n",
              "  </style>\n",
              "\n",
              "    <script>\n",
              "      const buttonEl =\n",
              "        document.querySelector('#df-45527631-d32d-480b-b314-d76615b39f34 button.colab-df-convert');\n",
              "      buttonEl.style.display =\n",
              "        google.colab.kernel.accessAllowed ? 'block' : 'none';\n",
              "\n",
              "      async function convertToInteractive(key) {\n",
              "        const element = document.querySelector('#df-45527631-d32d-480b-b314-d76615b39f34');\n",
              "        const dataTable =\n",
              "          await google.colab.kernel.invokeFunction('convertToInteractive',\n",
              "                                                    [key], {});\n",
              "        if (!dataTable) return;\n",
              "\n",
              "        const docLinkHtml = 'Like what you see? Visit the ' +\n",
              "          '<a target=\"_blank\" href=https://colab.research.google.com/notebooks/data_table.ipynb>data table notebook</a>'\n",
              "          + ' to learn more about interactive tables.';\n",
              "        element.innerHTML = '';\n",
              "        dataTable['output_type'] = 'display_data';\n",
              "        await google.colab.output.renderOutput(dataTable, element);\n",
              "        const docLink = document.createElement('div');\n",
              "        docLink.innerHTML = docLinkHtml;\n",
              "        element.appendChild(docLink);\n",
              "      }\n",
              "    </script>\n",
              "  </div>\n",
              "\n",
              "\n",
              "<div id=\"df-bca63854-0ff1-445a-8c35-443d16361f46\">\n",
              "  <button class=\"colab-df-quickchart\" onclick=\"quickchart('df-bca63854-0ff1-445a-8c35-443d16361f46')\"\n",
              "            title=\"Suggest charts\"\n",
              "            style=\"display:none;\">\n",
              "\n",
              "<svg xmlns=\"http://www.w3.org/2000/svg\" height=\"24px\"viewBox=\"0 0 24 24\"\n",
              "     width=\"24px\">\n",
              "    <g>\n",
              "        <path d=\"M19 3H5c-1.1 0-2 .9-2 2v14c0 1.1.9 2 2 2h14c1.1 0 2-.9 2-2V5c0-1.1-.9-2-2-2zM9 17H7v-7h2v7zm4 0h-2V7h2v10zm4 0h-2v-4h2v4z\"/>\n",
              "    </g>\n",
              "</svg>\n",
              "  </button>\n",
              "\n",
              "<style>\n",
              "  .colab-df-quickchart {\n",
              "      --bg-color: #E8F0FE;\n",
              "      --fill-color: #1967D2;\n",
              "      --hover-bg-color: #E2EBFA;\n",
              "      --hover-fill-color: #174EA6;\n",
              "      --disabled-fill-color: #AAA;\n",
              "      --disabled-bg-color: #DDD;\n",
              "  }\n",
              "\n",
              "  [theme=dark] .colab-df-quickchart {\n",
              "      --bg-color: #3B4455;\n",
              "      --fill-color: #D2E3FC;\n",
              "      --hover-bg-color: #434B5C;\n",
              "      --hover-fill-color: #FFFFFF;\n",
              "      --disabled-bg-color: #3B4455;\n",
              "      --disabled-fill-color: #666;\n",
              "  }\n",
              "\n",
              "  .colab-df-quickchart {\n",
              "    background-color: var(--bg-color);\n",
              "    border: none;\n",
              "    border-radius: 50%;\n",
              "    cursor: pointer;\n",
              "    display: none;\n",
              "    fill: var(--fill-color);\n",
              "    height: 32px;\n",
              "    padding: 0;\n",
              "    width: 32px;\n",
              "  }\n",
              "\n",
              "  .colab-df-quickchart:hover {\n",
              "    background-color: var(--hover-bg-color);\n",
              "    box-shadow: 0 1px 2px rgba(60, 64, 67, 0.3), 0 1px 3px 1px rgba(60, 64, 67, 0.15);\n",
              "    fill: var(--button-hover-fill-color);\n",
              "  }\n",
              "\n",
              "  .colab-df-quickchart-complete:disabled,\n",
              "  .colab-df-quickchart-complete:disabled:hover {\n",
              "    background-color: var(--disabled-bg-color);\n",
              "    fill: var(--disabled-fill-color);\n",
              "    box-shadow: none;\n",
              "  }\n",
              "\n",
              "  .colab-df-spinner {\n",
              "    border: 2px solid var(--fill-color);\n",
              "    border-color: transparent;\n",
              "    border-bottom-color: var(--fill-color);\n",
              "    animation:\n",
              "      spin 1s steps(1) infinite;\n",
              "  }\n",
              "\n",
              "  @keyframes spin {\n",
              "    0% {\n",
              "      border-color: transparent;\n",
              "      border-bottom-color: var(--fill-color);\n",
              "      border-left-color: var(--fill-color);\n",
              "    }\n",
              "    20% {\n",
              "      border-color: transparent;\n",
              "      border-left-color: var(--fill-color);\n",
              "      border-top-color: var(--fill-color);\n",
              "    }\n",
              "    30% {\n",
              "      border-color: transparent;\n",
              "      border-left-color: var(--fill-color);\n",
              "      border-top-color: var(--fill-color);\n",
              "      border-right-color: var(--fill-color);\n",
              "    }\n",
              "    40% {\n",
              "      border-color: transparent;\n",
              "      border-right-color: var(--fill-color);\n",
              "      border-top-color: var(--fill-color);\n",
              "    }\n",
              "    60% {\n",
              "      border-color: transparent;\n",
              "      border-right-color: var(--fill-color);\n",
              "    }\n",
              "    80% {\n",
              "      border-color: transparent;\n",
              "      border-right-color: var(--fill-color);\n",
              "      border-bottom-color: var(--fill-color);\n",
              "    }\n",
              "    90% {\n",
              "      border-color: transparent;\n",
              "      border-bottom-color: var(--fill-color);\n",
              "    }\n",
              "  }\n",
              "</style>\n",
              "\n",
              "  <script>\n",
              "    async function quickchart(key) {\n",
              "      const quickchartButtonEl =\n",
              "        document.querySelector('#' + key + ' button');\n",
              "      quickchartButtonEl.disabled = true;  // To prevent multiple clicks.\n",
              "      quickchartButtonEl.classList.add('colab-df-spinner');\n",
              "      try {\n",
              "        const charts = await google.colab.kernel.invokeFunction(\n",
              "            'suggestCharts', [key], {});\n",
              "      } catch (error) {\n",
              "        console.error('Error during call to suggestCharts:', error);\n",
              "      }\n",
              "      quickchartButtonEl.classList.remove('colab-df-spinner');\n",
              "      quickchartButtonEl.classList.add('colab-df-quickchart-complete');\n",
              "    }\n",
              "    (() => {\n",
              "      let quickchartButtonEl =\n",
              "        document.querySelector('#df-bca63854-0ff1-445a-8c35-443d16361f46 button');\n",
              "      quickchartButtonEl.style.display =\n",
              "        google.colab.kernel.accessAllowed ? 'block' : 'none';\n",
              "    })();\n",
              "  </script>\n",
              "</div>\n",
              "\n",
              "    </div>\n",
              "  </div>\n"
            ],
            "application/vnd.google.colaboratory.intrinsic+json": {
              "type": "dataframe",
              "variable_name": "maior_valor_ativo_i",
              "summary": "{\n  \"name\": \"maior_valor_ativo_i\",\n  \"rows\": 21,\n  \"fields\": [\n    {\n      \"column\": \"Valor Inicial (R$).3\",\n      \"properties\": {\n        \"dtype\": \"number\",\n        \"std\": 13.46802529546564,\n        \"min\": 33.64924182,\n        \"max\": 77.19649006,\n        \"num_unique_values\": 21,\n        \"samples\": [\n          38.98179116,\n          44.30034874,\n          36.90886837\n        ],\n        \"semantic_type\": \"\",\n        \"description\": \"\"\n      }\n    },\n    {\n      \"column\": \"Ativo\",\n      \"properties\": {\n        \"dtype\": \"string\",\n        \"num_unique_values\": 21,\n        \"samples\": [\n          \"PETR3\",\n          \"IRBR3\",\n          \"WEGE3\"\n        ],\n        \"semantic_type\": \"\",\n        \"description\": \"\"\n      }\n    }\n  ]\n}"
            }
          },
          "metadata": {},
          "execution_count": 70
        }
      ]
    },
    {
      "cell_type": "code",
      "source": [
        "maior_valor_ativo_f=maiores[[\"Último (R$)\", \"Ativo\"]]\n",
        "maior_valor_ativo_i.head(5)"
      ],
      "metadata": {
        "id": "4QpPJahfZtU3",
        "outputId": "582addc1-e16d-49ed-cd1d-15be80f47d2f",
        "colab": {
          "base_uri": "https://localhost:8080/",
          "height": 223
        }
      },
      "execution_count": 71,
      "outputs": [
        {
          "output_type": "execute_result",
          "data": {
            "text/plain": [
              "   Valor Inicial (R$).3  Ativo\n",
              "2             38.981791  PETR3\n",
              "3             55.630323  SUZB3\n",
              "4             38.509446  CPFE3\n",
              "5             46.049184  PRIO3\n",
              "6             37.241379  PETR4"
            ],
            "text/html": [
              "\n",
              "  <div id=\"df-6715908e-2f14-4e52-bfcf-66c0c2282800\" class=\"colab-df-container\">\n",
              "    <div>\n",
              "<style scoped>\n",
              "    .dataframe tbody tr th:only-of-type {\n",
              "        vertical-align: middle;\n",
              "    }\n",
              "\n",
              "    .dataframe tbody tr th {\n",
              "        vertical-align: top;\n",
              "    }\n",
              "\n",
              "    .dataframe thead th {\n",
              "        text-align: right;\n",
              "    }\n",
              "</style>\n",
              "<table border=\"1\" class=\"dataframe\">\n",
              "  <thead>\n",
              "    <tr style=\"text-align: right;\">\n",
              "      <th></th>\n",
              "      <th>Valor Inicial (R$).3</th>\n",
              "      <th>Ativo</th>\n",
              "    </tr>\n",
              "  </thead>\n",
              "  <tbody>\n",
              "    <tr>\n",
              "      <th>2</th>\n",
              "      <td>38.981791</td>\n",
              "      <td>PETR3</td>\n",
              "    </tr>\n",
              "    <tr>\n",
              "      <th>3</th>\n",
              "      <td>55.630323</td>\n",
              "      <td>SUZB3</td>\n",
              "    </tr>\n",
              "    <tr>\n",
              "      <th>4</th>\n",
              "      <td>38.509446</td>\n",
              "      <td>CPFE3</td>\n",
              "    </tr>\n",
              "    <tr>\n",
              "      <th>5</th>\n",
              "      <td>46.049184</td>\n",
              "      <td>PRIO3</td>\n",
              "    </tr>\n",
              "    <tr>\n",
              "      <th>6</th>\n",
              "      <td>37.241379</td>\n",
              "      <td>PETR4</td>\n",
              "    </tr>\n",
              "  </tbody>\n",
              "</table>\n",
              "</div>\n",
              "    <div class=\"colab-df-buttons\">\n",
              "\n",
              "  <div class=\"colab-df-container\">\n",
              "    <button class=\"colab-df-convert\" onclick=\"convertToInteractive('df-6715908e-2f14-4e52-bfcf-66c0c2282800')\"\n",
              "            title=\"Convert this dataframe to an interactive table.\"\n",
              "            style=\"display:none;\">\n",
              "\n",
              "  <svg xmlns=\"http://www.w3.org/2000/svg\" height=\"24px\" viewBox=\"0 -960 960 960\">\n",
              "    <path d=\"M120-120v-720h720v720H120Zm60-500h600v-160H180v160Zm220 220h160v-160H400v160Zm0 220h160v-160H400v160ZM180-400h160v-160H180v160Zm440 0h160v-160H620v160ZM180-180h160v-160H180v160Zm440 0h160v-160H620v160Z\"/>\n",
              "  </svg>\n",
              "    </button>\n",
              "\n",
              "  <style>\n",
              "    .colab-df-container {\n",
              "      display:flex;\n",
              "      gap: 12px;\n",
              "    }\n",
              "\n",
              "    .colab-df-convert {\n",
              "      background-color: #E8F0FE;\n",
              "      border: none;\n",
              "      border-radius: 50%;\n",
              "      cursor: pointer;\n",
              "      display: none;\n",
              "      fill: #1967D2;\n",
              "      height: 32px;\n",
              "      padding: 0 0 0 0;\n",
              "      width: 32px;\n",
              "    }\n",
              "\n",
              "    .colab-df-convert:hover {\n",
              "      background-color: #E2EBFA;\n",
              "      box-shadow: 0px 1px 2px rgba(60, 64, 67, 0.3), 0px 1px 3px 1px rgba(60, 64, 67, 0.15);\n",
              "      fill: #174EA6;\n",
              "    }\n",
              "\n",
              "    .colab-df-buttons div {\n",
              "      margin-bottom: 4px;\n",
              "    }\n",
              "\n",
              "    [theme=dark] .colab-df-convert {\n",
              "      background-color: #3B4455;\n",
              "      fill: #D2E3FC;\n",
              "    }\n",
              "\n",
              "    [theme=dark] .colab-df-convert:hover {\n",
              "      background-color: #434B5C;\n",
              "      box-shadow: 0px 1px 3px 1px rgba(0, 0, 0, 0.15);\n",
              "      filter: drop-shadow(0px 1px 2px rgba(0, 0, 0, 0.3));\n",
              "      fill: #FFFFFF;\n",
              "    }\n",
              "  </style>\n",
              "\n",
              "    <script>\n",
              "      const buttonEl =\n",
              "        document.querySelector('#df-6715908e-2f14-4e52-bfcf-66c0c2282800 button.colab-df-convert');\n",
              "      buttonEl.style.display =\n",
              "        google.colab.kernel.accessAllowed ? 'block' : 'none';\n",
              "\n",
              "      async function convertToInteractive(key) {\n",
              "        const element = document.querySelector('#df-6715908e-2f14-4e52-bfcf-66c0c2282800');\n",
              "        const dataTable =\n",
              "          await google.colab.kernel.invokeFunction('convertToInteractive',\n",
              "                                                    [key], {});\n",
              "        if (!dataTable) return;\n",
              "\n",
              "        const docLinkHtml = 'Like what you see? Visit the ' +\n",
              "          '<a target=\"_blank\" href=https://colab.research.google.com/notebooks/data_table.ipynb>data table notebook</a>'\n",
              "          + ' to learn more about interactive tables.';\n",
              "        element.innerHTML = '';\n",
              "        dataTable['output_type'] = 'display_data';\n",
              "        await google.colab.output.renderOutput(dataTable, element);\n",
              "        const docLink = document.createElement('div');\n",
              "        docLink.innerHTML = docLinkHtml;\n",
              "        element.appendChild(docLink);\n",
              "      }\n",
              "    </script>\n",
              "  </div>\n",
              "\n",
              "\n",
              "<div id=\"df-01430c58-7948-4ee6-bc6d-c30157030975\">\n",
              "  <button class=\"colab-df-quickchart\" onclick=\"quickchart('df-01430c58-7948-4ee6-bc6d-c30157030975')\"\n",
              "            title=\"Suggest charts\"\n",
              "            style=\"display:none;\">\n",
              "\n",
              "<svg xmlns=\"http://www.w3.org/2000/svg\" height=\"24px\"viewBox=\"0 0 24 24\"\n",
              "     width=\"24px\">\n",
              "    <g>\n",
              "        <path d=\"M19 3H5c-1.1 0-2 .9-2 2v14c0 1.1.9 2 2 2h14c1.1 0 2-.9 2-2V5c0-1.1-.9-2-2-2zM9 17H7v-7h2v7zm4 0h-2V7h2v10zm4 0h-2v-4h2v4z\"/>\n",
              "    </g>\n",
              "</svg>\n",
              "  </button>\n",
              "\n",
              "<style>\n",
              "  .colab-df-quickchart {\n",
              "      --bg-color: #E8F0FE;\n",
              "      --fill-color: #1967D2;\n",
              "      --hover-bg-color: #E2EBFA;\n",
              "      --hover-fill-color: #174EA6;\n",
              "      --disabled-fill-color: #AAA;\n",
              "      --disabled-bg-color: #DDD;\n",
              "  }\n",
              "\n",
              "  [theme=dark] .colab-df-quickchart {\n",
              "      --bg-color: #3B4455;\n",
              "      --fill-color: #D2E3FC;\n",
              "      --hover-bg-color: #434B5C;\n",
              "      --hover-fill-color: #FFFFFF;\n",
              "      --disabled-bg-color: #3B4455;\n",
              "      --disabled-fill-color: #666;\n",
              "  }\n",
              "\n",
              "  .colab-df-quickchart {\n",
              "    background-color: var(--bg-color);\n",
              "    border: none;\n",
              "    border-radius: 50%;\n",
              "    cursor: pointer;\n",
              "    display: none;\n",
              "    fill: var(--fill-color);\n",
              "    height: 32px;\n",
              "    padding: 0;\n",
              "    width: 32px;\n",
              "  }\n",
              "\n",
              "  .colab-df-quickchart:hover {\n",
              "    background-color: var(--hover-bg-color);\n",
              "    box-shadow: 0 1px 2px rgba(60, 64, 67, 0.3), 0 1px 3px 1px rgba(60, 64, 67, 0.15);\n",
              "    fill: var(--button-hover-fill-color);\n",
              "  }\n",
              "\n",
              "  .colab-df-quickchart-complete:disabled,\n",
              "  .colab-df-quickchart-complete:disabled:hover {\n",
              "    background-color: var(--disabled-bg-color);\n",
              "    fill: var(--disabled-fill-color);\n",
              "    box-shadow: none;\n",
              "  }\n",
              "\n",
              "  .colab-df-spinner {\n",
              "    border: 2px solid var(--fill-color);\n",
              "    border-color: transparent;\n",
              "    border-bottom-color: var(--fill-color);\n",
              "    animation:\n",
              "      spin 1s steps(1) infinite;\n",
              "  }\n",
              "\n",
              "  @keyframes spin {\n",
              "    0% {\n",
              "      border-color: transparent;\n",
              "      border-bottom-color: var(--fill-color);\n",
              "      border-left-color: var(--fill-color);\n",
              "    }\n",
              "    20% {\n",
              "      border-color: transparent;\n",
              "      border-left-color: var(--fill-color);\n",
              "      border-top-color: var(--fill-color);\n",
              "    }\n",
              "    30% {\n",
              "      border-color: transparent;\n",
              "      border-left-color: var(--fill-color);\n",
              "      border-top-color: var(--fill-color);\n",
              "      border-right-color: var(--fill-color);\n",
              "    }\n",
              "    40% {\n",
              "      border-color: transparent;\n",
              "      border-right-color: var(--fill-color);\n",
              "      border-top-color: var(--fill-color);\n",
              "    }\n",
              "    60% {\n",
              "      border-color: transparent;\n",
              "      border-right-color: var(--fill-color);\n",
              "    }\n",
              "    80% {\n",
              "      border-color: transparent;\n",
              "      border-right-color: var(--fill-color);\n",
              "      border-bottom-color: var(--fill-color);\n",
              "    }\n",
              "    90% {\n",
              "      border-color: transparent;\n",
              "      border-bottom-color: var(--fill-color);\n",
              "    }\n",
              "  }\n",
              "</style>\n",
              "\n",
              "  <script>\n",
              "    async function quickchart(key) {\n",
              "      const quickchartButtonEl =\n",
              "        document.querySelector('#' + key + ' button');\n",
              "      quickchartButtonEl.disabled = true;  // To prevent multiple clicks.\n",
              "      quickchartButtonEl.classList.add('colab-df-spinner');\n",
              "      try {\n",
              "        const charts = await google.colab.kernel.invokeFunction(\n",
              "            'suggestCharts', [key], {});\n",
              "      } catch (error) {\n",
              "        console.error('Error during call to suggestCharts:', error);\n",
              "      }\n",
              "      quickchartButtonEl.classList.remove('colab-df-spinner');\n",
              "      quickchartButtonEl.classList.add('colab-df-quickchart-complete');\n",
              "    }\n",
              "    (() => {\n",
              "      let quickchartButtonEl =\n",
              "        document.querySelector('#df-01430c58-7948-4ee6-bc6d-c30157030975 button');\n",
              "      quickchartButtonEl.style.display =\n",
              "        google.colab.kernel.accessAllowed ? 'block' : 'none';\n",
              "    })();\n",
              "  </script>\n",
              "</div>\n",
              "\n",
              "    </div>\n",
              "  </div>\n"
            ],
            "application/vnd.google.colaboratory.intrinsic+json": {
              "type": "dataframe",
              "variable_name": "maior_valor_ativo_i",
              "summary": "{\n  \"name\": \"maior_valor_ativo_i\",\n  \"rows\": 21,\n  \"fields\": [\n    {\n      \"column\": \"Valor Inicial (R$).3\",\n      \"properties\": {\n        \"dtype\": \"number\",\n        \"std\": 13.46802529546564,\n        \"min\": 33.64924182,\n        \"max\": 77.19649006,\n        \"num_unique_values\": 21,\n        \"samples\": [\n          38.98179116,\n          44.30034874,\n          36.90886837\n        ],\n        \"semantic_type\": \"\",\n        \"description\": \"\"\n      }\n    },\n    {\n      \"column\": \"Ativo\",\n      \"properties\": {\n        \"dtype\": \"string\",\n        \"num_unique_values\": 21,\n        \"samples\": [\n          \"PETR3\",\n          \"IRBR3\",\n          \"WEGE3\"\n        ],\n        \"semantic_type\": \"\",\n        \"description\": \"\"\n      }\n    }\n  ]\n}"
            }
          },
          "metadata": {},
          "execution_count": 71
        }
      ]
    },
    {
      "cell_type": "code",
      "source": [
        "ativo_maior_i=maiores.loc[0:5,\"Ativo\"]\n",
        "ativo_maior_i"
      ],
      "metadata": {
        "id": "j-khx5ojaSpu",
        "outputId": "d93e3ce8-e8b6-4a92-cc53-0e054a177d3e",
        "colab": {
          "base_uri": "https://localhost:8080/"
        }
      },
      "execution_count": 78,
      "outputs": [
        {
          "output_type": "execute_result",
          "data": {
            "text/plain": [
              "2    PETR3\n",
              "3    SUZB3\n",
              "4    CPFE3\n",
              "5    PRIO3\n",
              "Name: Ativo, dtype: object"
            ]
          },
          "metadata": {},
          "execution_count": 78
        }
      ]
    },
    {
      "cell_type": "code",
      "source": [
        "plt.bar(ativo_maior_i,maiores_i)"
      ],
      "metadata": {
        "id": "YaBUZTUsbEQf",
        "outputId": "edbb2a3d-3941-48e7-e441-16c916142f3a",
        "colab": {
          "base_uri": "https://localhost:8080/",
          "height": 266
        }
      },
      "execution_count": 80,
      "outputs": [
        {
          "output_type": "execute_result",
          "data": {
            "text/plain": [
              "<BarContainer object of 4 artists>"
            ]
          },
          "metadata": {},
          "execution_count": 80
        },
        {
          "output_type": "display_data",
          "data": {
            "text/plain": [
              "<Figure size 640x480 with 1 Axes>"
            ],
            "image/png": "[encoded data removed]"
          },
          "metadata": {}
        }
      ]
    },
    {
      "cell_type": "code",
      "source": [
        "ativo_maior_f=maiores.loc[0:5,\"Ativo\"]\n",
        "ativo_maior_f"
      ],
      "metadata": {
        "id": "UkyE4gg5brRl",
        "outputId": "4e1d6915-e575-4e8d-97b8-8620b7b46f81",
        "colab": {
          "base_uri": "https://localhost:8080/"
        }
      },
      "execution_count": 81,
      "outputs": [
        {
          "output_type": "execute_result",
          "data": {
            "text/plain": [
              "2    PETR3\n",
              "3    SUZB3\n",
              "4    CPFE3\n",
              "5    PRIO3\n",
              "Name: Ativo, dtype: object"
            ]
          },
          "metadata": {},
          "execution_count": 81
        }
      ]
    },
    {
      "cell_type": "code",
      "source": [],
      "metadata": {
        "id": "7BGHyg5scDPV"
      },
      "execution_count": null,
      "outputs": []
    }
  ],
  "metadata": {
    "colab": {
      "provenance": [],
      "mount_file_id": "https://github.com/jeniferGoncalvesDaSilvaDev/python-finance/blob/main/imersao_alura_dados_2.ipynb",
      "authorship_tag": "ABX9TyNQpYW1i6zvBSO1R8ULHTv2",
      "include_colab_link": true
    },
    "kernelspec": {
      "display_name": "Python 3",
      "name": "python3"
    },
    "language_info": {
      "name": "python"
    }
  },
  "nbformat": 4,
  "nbformat_minor": 0
}