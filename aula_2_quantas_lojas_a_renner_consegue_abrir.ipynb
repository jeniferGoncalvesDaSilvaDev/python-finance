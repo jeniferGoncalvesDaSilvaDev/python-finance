{
  "cells": [
    {
      "cell_type": "markdown",
      "metadata": {
        "id": "view-in-github",
        "colab_type": "text"
      },
      "source": [
        "<a href=\"https://colab.research.google.com/github/jeniferGoncalvesDaSilvaDev/python-finance/blob/main/aula_2_quantas_lojas_a_renner_consegue_abrir.ipynb\" target=\"_parent\"><img src=\"https://colab.research.google.com/assets/colab-badge.svg\" alt=\"Open In Colab\"/></a>"
      ]
    },
    {
      "cell_type": "markdown",
      "id": "b1d35f00",
      "metadata": {
        "id": "b1d35f00"
      },
      "source": [
        "# Projeto Renner: Como projetar a receita da empresa através da abertura de novas lojas.\n",
        "  \n",
        "  \n",
        "### Passo a passo:\n",
        "\n",
        "   **Passo 1** - Ler e tratar os dados de lojas atuais.\n",
        "\n",
        "   **Passo 2** - Ler e tratar dados dos munícipios brasileiros.\n",
        "   \n",
        "   **Passo 3** - Observar as características atuais das lojas.\n",
        "   \n",
        "   **Passo 4** - Concluir padrões observados.\n",
        "   \n",
        "   **Passo 5** - Traçar um plano de análise.\n",
        "   \n",
        "   **Passo 6** -  Pegar os dados faltantes para a projeção.\n",
        "   \n",
        "   **Passo 7** - Fazer a projeção.\n",
        "   \n",
        "   **Passo 8** - Usar a projeção pra projetar a receita líquida e chegar ao valor justo da empresa."
      ]
    },
    {
      "cell_type": "code",
      "execution_count": null,
      "id": "7d5b2e1d",
      "metadata": {
        "id": "7d5b2e1d"
      },
      "outputs": [],
      "source": [
        "!pip install mplcyberpunk"
      ]
    },
    {
      "cell_type": "code",
      "execution_count": null,
      "id": "5b1983f3",
      "metadata": {
        "id": "5b1983f3"
      },
      "outputs": [],
      "source": [
        "import pandas as pd\n",
        "import matplotlib.pyplot as plt\n",
        "import mplcyberpunk\n",
        "\n",
        "plt.style.use('cyberpunk')"
      ]
    },
    {
      "cell_type": "markdown",
      "id": "a3b41235",
      "metadata": {
        "id": "a3b41235"
      },
      "source": [
        "# Coleta e tratamento de dados\n",
        "\n",
        "----------\n",
        "\n",
        "<br>\n",
        "\n",
        "## Passo 1: Pegar os dados de lojas atuais."
      ]
    },
    {
      "cell_type": "code",
      "execution_count": null,
      "id": "be426d21",
      "metadata": {
        "id": "be426d21"
      },
      "outputs": [],
      "source": [
        "nome_sheet = 'Lista de Lojas | Stores List'\n",
        "\n",
        "planilha_renner = pd.read_excel(\"lojas_renner.xlsx\", sheet_name = nome_sheet, skiprows = 5,\n",
        "                                usecols = ['Business', 'Country', 'UF', 'State', 'City',\n",
        "                                           'Opening date', 'Shopping Mall / Street'])"
      ]
    },
    {
      "cell_type": "code",
      "execution_count": null,
      "id": "928543bc",
      "metadata": {
        "id": "928543bc"
      },
      "outputs": [],
      "source": [
        "planilha_renner = planilha_renner.dropna()\n",
        "\n",
        "planilha_renner = planilha_renner[(planilha_renner['Business'] == \"Renner\") &\n",
        "                                  (planilha_renner['Country'] == \"Brazil\")]\n",
        "\n",
        "planilha_renner['Opening date'] = pd.to_datetime(planilha_renner['Opening date'])\n",
        "\n",
        "planilha_renner"
      ]
    },
    {
      "cell_type": "markdown",
      "id": "a2a1a332",
      "metadata": {
        "id": "a2a1a332"
      },
      "source": [
        "## Passo 2: Pegar os dados dos municípios brasileiros.\n",
        "\n",
        "Vamos no SIDRA, do IBGE.\n",
        "\n",
        "https://sidra.ibge.gov.br/pesquisa/censo-demografico/demografico-2022/primeiros-resultados-populacao-e-domicilios\n",
        "\n",
        "<br>\n",
        "\n",
        "https://sidra.ibge.gov.br/pesquisa/pib-munic/tabelas"
      ]
    },
    {
      "cell_type": "code",
      "execution_count": null,
      "id": "c786d787",
      "metadata": {
        "id": "c786d787"
      },
      "outputs": [],
      "source": [
        "pib_municipios = pd.read_excel(\"pib_municipios.xlsx\")\n",
        "pop_municipios = pd.read_excel(\"populacao_municipios.xlsx\")"
      ]
    },
    {
      "cell_type": "code",
      "execution_count": null,
      "id": "c3b2744d",
      "metadata": {
        "id": "c3b2744d"
      },
      "outputs": [],
      "source": [
        "dados_municipios = pib_municipios.merge(pop_municipios, on = 'City')"
      ]
    },
    {
      "cell_type": "code",
      "execution_count": null,
      "id": "d0ed3292",
      "metadata": {
        "id": "d0ed3292"
      },
      "outputs": [],
      "source": [
        "dados_municipios['pib_per_capta'] = dados_municipios['pib']/dados_municipios['pop']"
      ]
    },
    {
      "cell_type": "code",
      "execution_count": null,
      "id": "01015f14",
      "metadata": {
        "id": "01015f14"
      },
      "outputs": [],
      "source": [
        "dados_municipios[['City', 'UF']] = dados_municipios['City'].str.split(\"(\", expand = True)"
      ]
    },
    {
      "cell_type": "code",
      "execution_count": null,
      "id": "33782b77",
      "metadata": {
        "id": "33782b77"
      },
      "outputs": [],
      "source": [
        "dados_municipios['UF'] = dados_municipios['UF'].str.replace(\")\", \"\")"
      ]
    },
    {
      "cell_type": "code",
      "execution_count": null,
      "id": "cf80d896",
      "metadata": {
        "id": "cf80d896"
      },
      "outputs": [],
      "source": [
        "planilha_renner['City'] = planilha_renner['City'].str.strip()\n",
        "planilha_renner['UF'] = planilha_renner['UF'].str.strip()\n",
        "dados_municipios['City'] = dados_municipios['City'].str.strip()\n",
        "dados_municipios['UF'] = dados_municipios['UF'].str.strip()"
      ]
    },
    {
      "cell_type": "markdown",
      "id": "2f27078d",
      "metadata": {
        "id": "2f27078d"
      },
      "source": [
        "### Juntando os dados"
      ]
    },
    {
      "cell_type": "code",
      "execution_count": null,
      "id": "6e78f23d",
      "metadata": {
        "id": "6e78f23d"
      },
      "outputs": [],
      "source": [
        "dados_lojas_e_economicos = dados_municipios.merge(planilha_renner, on = ['City', 'UF'])\n",
        "\n",
        "dados_lojas_e_economicos"
      ]
    },
    {
      "cell_type": "markdown",
      "id": "8b92c6f6",
      "metadata": {
        "id": "8b92c6f6"
      },
      "source": [
        "# Análise exploratória dos dados\n",
        "\n",
        "------------------\n",
        "\n",
        "## Passo 3: Observar as características atuais das lojas.\n",
        "\n",
        "### % em shoppings"
      ]
    },
    {
      "cell_type": "code",
      "execution_count": null,
      "id": "f7017b3e",
      "metadata": {
        "id": "f7017b3e"
      },
      "outputs": [],
      "source": [
        "quantidade_de_lojas = len(dados_lojas_e_economicos)"
      ]
    },
    {
      "cell_type": "code",
      "execution_count": null,
      "id": "e1836805",
      "metadata": {
        "scrolled": true,
        "id": "e1836805"
      },
      "outputs": [],
      "source": [
        "qtd_por_tipo = dados_lojas_e_economicos.groupby('Shopping Mall / Street')['Shopping Mall / Street'].size()"
      ]
    },
    {
      "cell_type": "code",
      "execution_count": null,
      "id": "1ed56400",
      "metadata": {
        "id": "1ed56400"
      },
      "outputs": [],
      "source": [
        "qtd_por_tipo/quantidade_de_lojas"
      ]
    },
    {
      "cell_type": "markdown",
      "id": "feb3afbc",
      "metadata": {
        "id": "feb3afbc"
      },
      "source": [
        "## A Renner abre lojas em cidades com qual perfil de renda e população?\n",
        "\n",
        "### Menor e maior cidade com uma Renner"
      ]
    },
    {
      "cell_type": "code",
      "execution_count": null,
      "id": "8cecb213",
      "metadata": {
        "id": "8cecb213"
      },
      "outputs": [],
      "source": [
        "dados_lojas_e_economicos.sort_values('pop')"
      ]
    },
    {
      "cell_type": "markdown",
      "id": "03a78375",
      "metadata": {
        "id": "03a78375"
      },
      "source": [
        "### Cidade mais rica e mais pobre com uma Renner"
      ]
    },
    {
      "cell_type": "code",
      "execution_count": null,
      "id": "4e4b7a2e",
      "metadata": {
        "id": "4e4b7a2e"
      },
      "outputs": [],
      "source": [
        "dados_lojas_e_economicos.sort_values('pib_per_capta')"
      ]
    },
    {
      "cell_type": "markdown",
      "id": "15da9137",
      "metadata": {
        "id": "15da9137"
      },
      "source": [
        "## Em relação as cidades brasileiras, como é a distribuição de lojas abertas pela Renner em relação ao pib per capta? Ela foge de cidades \"pobres\"?\n",
        "<br>\n",
        "Pra visualizar esses dados, vamos igualar o perfil da amostra e retirar outliers."
      ]
    },
    {
      "cell_type": "code",
      "execution_count": null,
      "id": "cd3bf60a",
      "metadata": {
        "id": "cd3bf60a"
      },
      "outputs": [],
      "source": [
        "dados_municipios_histograma = dados_municipios[dados_municipios['pib_per_capta'] < 100]\n",
        "#cidades muito ricas deixam o gráfico distorcido\n",
        "\n",
        "dados_municipios_histograma = dados_municipios_histograma[dados_municipios_histograma['pop'] > 30000]\n",
        "#vamos olhar só pra munícipios que suportam uma Renner e deixar só os passíveis de uma abertura\n",
        "\n",
        "dados_lojas_e_economicos_histograma = dados_lojas_e_economicos[dados_lojas_e_economicos['pib_per_capta'] < 100]\n",
        "#vamos tirar as cidades ricas da nossa amostra de lojas também"
      ]
    },
    {
      "cell_type": "markdown",
      "id": "0cf32735",
      "metadata": {
        "id": "0cf32735"
      },
      "source": [
        "Agora podemos visualizar nosso gráfico."
      ]
    },
    {
      "cell_type": "code",
      "execution_count": null,
      "id": "ec77c9fe",
      "metadata": {
        "id": "ec77c9fe"
      },
      "outputs": [],
      "source": [
        "fig, ax = plt.subplots(figsize = (10, 7))\n",
        "\n",
        "ax.hist(dados_municipios_histograma['pib_per_capta'], bins = 50)\n",
        "ax.hist(dados_lojas_e_economicos_histograma['pib_per_capta'], bins = 50)\n",
        "plt.xlabel('PIB Per Capita', fontsize = 15)\n",
        "plt.ylabel('Número de lojas ou municípios', fontsize = 15)\n",
        "ax.tick_params(axis='both', labelsize=15)\n",
        "plt.title(\"Distribuição de Lojas Renner X \\n Distribuição de Municípios no Brasil\" , fontsize = 15)\n",
        "ax.grid(False)\n",
        "plt.show()"
      ]
    },
    {
      "cell_type": "markdown",
      "id": "3848d585",
      "metadata": {
        "id": "3848d585"
      },
      "source": [
        "## Passo 4: Concluir padrões observados.\n",
        "\n",
        "# Dois padrões:\n",
        "\n",
        "* A maioria das lojas da Renner são em Shoppings.\n",
        "* Cidades com menores PIB per capita não são alvos da empresa."
      ]
    },
    {
      "cell_type": "markdown",
      "id": "e9188e28",
      "metadata": {
        "id": "e9188e28"
      },
      "source": [
        "# Análise de dados e projeções\n",
        "\n",
        "--------------\n",
        "\n",
        "## Passo 5: Traçar um plano de análise.\n",
        "\n",
        "* Nós sempre queremos ser conservadores em projeções.\n",
        "* Vamos manter o padrão de shoppings que se encaixam na descrição socio-economica que achamos."
      ]
    },
    {
      "cell_type": "markdown",
      "id": "4f2d64c5",
      "metadata": {
        "id": "4f2d64c5"
      },
      "source": [
        "## Passo 6: Pegar os dados faltantes para a projeção.\n",
        "\n",
        "https://abrasce.com.br/guia-de-shoppings/"
      ]
    },
    {
      "cell_type": "code",
      "execution_count": null,
      "id": "b8074aae",
      "metadata": {
        "id": "b8074aae"
      },
      "outputs": [],
      "source": [
        "dados_shoppings = pd.read_csv('shoppings.csv')\n",
        "dados_shoppings['City'] = dados_shoppings['City'].str.upper()\n",
        "dados_shoppings['City'] = dados_shoppings['City'].str.strip()\n",
        "\n",
        "dados_shoppings"
      ]
    },
    {
      "cell_type": "markdown",
      "id": "85d805a0",
      "metadata": {
        "id": "85d805a0"
      },
      "source": [
        "## Passo 7: Fazer a projeção.\n",
        "\n",
        "* Pegar os dados de quantos shoppings existem em uma determinada cidade.\n",
        "* Pegar quantas lojas a Renner tem na mesma cidade.\n",
        "* Caso o número seja menor, contar essa abertura.\n",
        "* Lojas de rua vão subestimar essa projeção.\n",
        "* Vamos lidar com as lojas de rua depois.\n",
        "\n",
        "<br>\n",
        "\n",
        "Obs: Você pode tentar cruzar os endereços em uma análise ainda mais criteriosa."
      ]
    },
    {
      "cell_type": "code",
      "execution_count": null,
      "id": "11b9400e",
      "metadata": {
        "id": "11b9400e"
      },
      "outputs": [],
      "source": [
        "shoppings_por_cidades = dados_shoppings.groupby('City')['City'].size().sort_values()\n",
        "\n",
        "shoppings_por_cidades"
      ]
    },
    {
      "cell_type": "code",
      "execution_count": null,
      "id": "15bbaadc",
      "metadata": {
        "id": "15bbaadc"
      },
      "outputs": [],
      "source": [
        "dados_lojas_em_shoppings = dados_lojas_e_economicos[dados_lojas_e_economicos['Shopping Mall / Street'] == 'Shopping Mall']\n",
        "\n",
        "dados_lojas_em_shoppings['City'] = dados_lojas_em_shoppings['City'].str.upper()\n",
        "\n",
        "dados_lojas_em_shoppings"
      ]
    },
    {
      "cell_type": "code",
      "execution_count": null,
      "id": "5c4c8bf9",
      "metadata": {
        "id": "5c4c8bf9"
      },
      "outputs": [],
      "source": [
        "lojas_em_shoppings_por_cidade = dados_lojas_em_shoppings.groupby('City')['City'].size().sort_values()\n",
        "\n",
        "lojas_em_shoppings_por_cidade"
      ]
    },
    {
      "cell_type": "code",
      "execution_count": null,
      "id": "27ca7e8e",
      "metadata": {
        "id": "27ca7e8e"
      },
      "outputs": [],
      "source": [
        "shoppings_por_cidades = shoppings_por_cidades.to_frame()\n",
        "lojas_em_shoppings_por_cidade = lojas_em_shoppings_por_cidade.to_frame()\n",
        "\n",
        "shoppings_por_cidades.columns = ['Nº de shoppings']\n",
        "lojas_em_shoppings_por_cidade.columns = ['Nº de lojas']"
      ]
    },
    {
      "cell_type": "code",
      "execution_count": null,
      "id": "6cfe6172",
      "metadata": {
        "id": "6cfe6172"
      },
      "outputs": [],
      "source": [
        "lojas_em_shoppings_por_cidade"
      ]
    },
    {
      "cell_type": "code",
      "execution_count": null,
      "id": "120c1926",
      "metadata": {
        "id": "120c1926"
      },
      "outputs": [],
      "source": [
        "df_lojas_x_shoppings = lojas_em_shoppings_por_cidade.join(shoppings_por_cidades, how = 'outer')\n",
        "\n",
        "df_lojas_x_shoppings"
      ]
    },
    {
      "cell_type": "code",
      "execution_count": null,
      "id": "e0c0b8c3",
      "metadata": {
        "id": "e0c0b8c3"
      },
      "outputs": [],
      "source": [
        "df_lojas_x_shoppings = df_lojas_x_shoppings.fillna(0)"
      ]
    },
    {
      "cell_type": "code",
      "execution_count": null,
      "id": "a9650f8b",
      "metadata": {
        "id": "a9650f8b"
      },
      "outputs": [],
      "source": [
        "df_lojas_x_shoppings['Novas Aberturas'] = df_lojas_x_shoppings['Nº de shoppings'] - df_lojas_x_shoppings['Nº de lojas']\n",
        "\n",
        "df_lojas_x_shoppings"
      ]
    },
    {
      "cell_type": "code",
      "execution_count": null,
      "id": "dc9d6164",
      "metadata": {
        "id": "dc9d6164"
      },
      "outputs": [],
      "source": [
        "df_lojas_x_shoppings.sort_values(\"Novas Aberturas\")"
      ]
    },
    {
      "cell_type": "markdown",
      "id": "85840a75",
      "metadata": {
        "id": "85840a75"
      },
      "source": [
        "* Tem cidade que vai ficar negativa essa conta e precisamos tirar isso da amostra."
      ]
    },
    {
      "cell_type": "code",
      "execution_count": null,
      "id": "90f85fbc",
      "metadata": {
        "id": "90f85fbc"
      },
      "outputs": [],
      "source": [
        "df_lojas_x_shoppings = df_lojas_x_shoppings[df_lojas_x_shoppings['Novas Aberturas'] != -1]\n",
        "\n",
        "df_lojas_x_shoppings"
      ]
    },
    {
      "cell_type": "code",
      "execution_count": null,
      "id": "7df46e7f",
      "metadata": {
        "id": "7df46e7f"
      },
      "outputs": [],
      "source": [
        "df_lojas_x_shoppings['Novas Aberturas'].sum()"
      ]
    },
    {
      "cell_type": "markdown",
      "id": "c6fe6f80",
      "metadata": {
        "id": "c6fe6f80"
      },
      "source": [
        "# Mas e as lojas de rua?\n",
        "\n",
        "* A grande restrição são as lojas em shopping. Vamos pegar as lojas totais finais e manter a proporção em relação ao que existe hoje."
      ]
    },
    {
      "cell_type": "code",
      "execution_count": null,
      "id": "db4dbcc4",
      "metadata": {
        "id": "db4dbcc4"
      },
      "outputs": [],
      "source": [
        "lojas_totais = dados_lojas_e_economicos.groupby('Shopping Mall / Street')['Shopping Mall / Street'].size()\n",
        "\n",
        "lojas_totais"
      ]
    },
    {
      "cell_type": "code",
      "execution_count": null,
      "id": "b93839c9",
      "metadata": {
        "id": "b93839c9"
      },
      "outputs": [],
      "source": [
        "lojas_totais['Shopping Mall'] = lojas_totais['Shopping Mall']  + df_lojas_x_shoppings['Novas Aberturas'].sum()"
      ]
    },
    {
      "cell_type": "code",
      "execution_count": null,
      "id": "8fc3eca0",
      "metadata": {
        "id": "8fc3eca0"
      },
      "outputs": [],
      "source": [
        "lojas_totais"
      ]
    },
    {
      "cell_type": "code",
      "execution_count": null,
      "id": "5003a5ee",
      "metadata": {
        "id": "5003a5ee"
      },
      "outputs": [],
      "source": [
        "lojas_rua_lojas_shop = 638/0.875878\n",
        "lojas_rua_lojas_shop"
      ]
    },
    {
      "cell_type": "code",
      "execution_count": null,
      "id": "1a558945",
      "metadata": {
        "id": "1a558945"
      },
      "outputs": [],
      "source": [
        "aberturas_rua = lojas_rua_lojas_shop - lojas_totais['Shopping Mall'] - lojas_totais['Street']\n",
        "aberturas_rua"
      ]
    },
    {
      "cell_type": "markdown",
      "id": "373ce57a",
      "metadata": {
        "id": "373ce57a"
      },
      "source": [
        "# Aberturas da Renner\n",
        "\n",
        "* 264 Lojas em shoppings\n",
        "* 37 lojas na rua\n",
        "* 301 lojas no total!\n",
        "* Não estamos considerando novos shoppings.\n",
        "* Um aspecto importante é ver um teto claro pra Renner nesse perfil de shoppings que existe hoje.\n",
        "* A renner abre aprox 25 lojas por ano.\n",
        "\n",
        "## Acabou? Claro que não!"
      ]
    },
    {
      "cell_type": "code",
      "execution_count": null,
      "id": "f0a784d0",
      "metadata": {
        "id": "f0a784d0"
      },
      "outputs": [],
      "source": []
    },
    {
      "cell_type": "code",
      "execution_count": null,
      "id": "a6cf1c7b",
      "metadata": {
        "id": "a6cf1c7b"
      },
      "outputs": [],
      "source": []
    },
    {
      "cell_type": "code",
      "execution_count": null,
      "id": "2715c440",
      "metadata": {
        "id": "2715c440"
      },
      "outputs": [],
      "source": []
    },
    {
      "cell_type": "code",
      "execution_count": null,
      "id": "fefde602",
      "metadata": {
        "id": "fefde602"
      },
      "outputs": [],
      "source": []
    }
  ],
  "metadata": {
    "kernelspec": {
      "display_name": "Python 3 (ipykernel)",
      "language": "python",
      "name": "python3"
    },
    "language_info": {
      "codemirror_mode": {
        "name": "ipython",
        "version": 3
      },
      "file_extension": ".py",
      "mimetype": "text/x-python",
      "name": "python",
      "nbconvert_exporter": "python",
      "pygments_lexer": "ipython3",
      "version": "3.11.3"
    },
    "colab": {
      "provenance": [],
      "include_colab_link": true
    }
  },
  "nbformat": 4,
  "nbformat_minor": 5
}