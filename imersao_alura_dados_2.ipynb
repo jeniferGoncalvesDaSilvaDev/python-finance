{
  "cells": [
    {
      "cell_type": "markdown",
      "metadata": {
        "id": "view-in-github",
        "colab_type": "text"
      },
      "source": [
        "<a href=\"https://colab.research.google.com/github/jeniferGoncalvesDaSilvaDev/python-finance/blob/main/imersao_alura_dados_2.ipynb\" target=\"_parent\"><img src=\"https://colab.research.google.com/assets/colab-badge.svg\" alt=\"Open In Colab\"/></a>"
      ]
    },
    {
      "cell_type": "code",
      "execution_count": 21,
      "metadata": {
        "id": "-0jpa2zGqmTm"
      },
      "outputs": [],
      "source": [
        "import pandas as pd\n",
        "import matplotlib.pyplot as plt\n",
        "from scipy.stats import bernoulli\n",
        "import statistics as st\n",
        "import numpy as np"
      ]
    },
    {
      "cell_type": "code",
      "execution_count": 22,
      "metadata": {
        "colab": {
          "base_uri": "https://localhost:8080/",
          "height": 425
        },
        "id": "YO44oYkk1LMv",
        "outputId": "6e5675c2-be64-458d-a953-0b84a699b214"
      },
      "outputs": [
        {
          "output_type": "display_data",
          "data": {
            "text/plain": [
              "   Ativo       Data  Último (R$)  Var. Dia (%)  Var. Sem. (%)  Var. Mês (%)  \\\n",
              "0  USIM5 2024-01-26         9.50          5.20          11.76          2.26   \n",
              "1  CMIN3 2024-01-26         6.82          2.40           2.40        -12.11   \n",
              "2  PETR3 2024-01-26        41.96          2.19           7.73          7.64   \n",
              "3  SUZB3 2024-01-26        52.91          2.04           2.14         -4.89   \n",
              "4  CPFE3 2024-01-26        37.10          2.03           2.49         -3.66   \n",
              "5  PRIO3 2024-01-26        45.69          1.98           2.42         -0.78   \n",
              "\n",
              "   Var. Ano (%)  Var. 12M (%)  Val. Mín  Val. Máx  ...  Variação $.2  \\\n",
              "0          2.26         15.97      9.18      9.56  ...  1.081515e+08   \n",
              "1        -12.11         50.56      6.66      6.86  ... -1.043592e+09   \n",
              "2          7.64         77.55     40.81     42.34  ...  7.087773e+09   \n",
              "3         -4.89         18.85     51.89     53.17  ... -1.859212e+09   \n",
              "4         -3.66         20.70     36.37     37.32  ... -2.645988e+08   \n",
              "5         -0.78          8.08     44.25     45.69  ... -2.873508e+08   \n",
              "\n",
              "   Resultado.2  Variação Ano %  Valor Inicial (R$).3  Variação $.3  \\\n",
              "0        Subiu          0.0226              9.290045  1.081515e+08   \n",
              "1       Desceu         -0.1211              7.759700 -1.043592e+09   \n",
              "2        Subiu          0.0764             38.981791  7.087773e+09   \n",
              "3       Desceu         -0.0489             55.630323 -1.859212e+09   \n",
              "4       Desceu         -0.0366             38.509446 -2.645988e+08   \n",
              "5       Desceu         -0.0078             46.049184 -2.873508e+08   \n",
              "\n",
              "  Resultado.3  Variação 12M %  Valor Inicial (R$).4  Variação $.4 Resultado.4  \n",
              "0       Subiu          0.1597              8.191774  6.738901e+08       Subiu  \n",
              "1      Desceu          0.5056              4.529756  2.543452e+09       Subiu  \n",
              "2       Subiu          0.7755             23.632780  4.361654e+10       Subiu  \n",
              "3      Desceu          0.1885             44.518300  5.735331e+09       Subiu  \n",
              "4      Desceu          0.2070             30.737365  1.194474e+09       Subiu  \n",
              "5      Desceu          0.0808             42.274241  2.732644e+09       Subiu  \n",
              "\n",
              "[6 rows x 32 columns]"
            ],
            "text/html": [
              "\n",
              "  <div id=\"df-db3317b9-f030-4e4d-845a-f443afe538cd\" class=\"colab-df-container\">\n",
              "    <div>\n",
              "<style scoped>\n",
              "    .dataframe tbody tr th:only-of-type {\n",
              "        vertical-align: middle;\n",
              "    }\n",
              "\n",
              "    .dataframe tbody tr th {\n",
              "        vertical-align: top;\n",
              "    }\n",
              "\n",
              "    .dataframe thead th {\n",
              "        text-align: right;\n",
              "    }\n",
              "</style>\n",
              "<table border=\"1\" class=\"dataframe\">\n",
              "  <thead>\n",
              "    <tr style=\"text-align: right;\">\n",
              "      <th></th>\n",
              "      <th>Ativo</th>\n",
              "      <th>Data</th>\n",
              "      <th>Último (R$)</th>\n",
              "      <th>Var. Dia (%)</th>\n",
              "      <th>Var. Sem. (%)</th>\n",
              "      <th>Var. Mês (%)</th>\n",
              "      <th>Var. Ano (%)</th>\n",
              "      <th>Var. 12M (%)</th>\n",
              "      <th>Val. Mín</th>\n",
              "      <th>Val. Máx</th>\n",
              "      <th>...</th>\n",
              "      <th>Variação $.2</th>\n",
              "      <th>Resultado.2</th>\n",
              "      <th>Variação Ano %</th>\n",
              "      <th>Valor Inicial (R$).3</th>\n",
              "      <th>Variação $.3</th>\n",
              "      <th>Resultado.3</th>\n",
              "      <th>Variação 12M %</th>\n",
              "      <th>Valor Inicial (R$).4</th>\n",
              "      <th>Variação $.4</th>\n",
              "      <th>Resultado.4</th>\n",
              "    </tr>\n",
              "  </thead>\n",
              "  <tbody>\n",
              "    <tr>\n",
              "      <th>0</th>\n",
              "      <td>USIM5</td>\n",
              "      <td>2024-01-26</td>\n",
              "      <td>9.50</td>\n",
              "      <td>5.20</td>\n",
              "      <td>11.76</td>\n",
              "      <td>2.26</td>\n",
              "      <td>2.26</td>\n",
              "      <td>15.97</td>\n",
              "      <td>9.18</td>\n",
              "      <td>9.56</td>\n",
              "      <td>...</td>\n",
              "      <td>1.081515e+08</td>\n",
              "      <td>Subiu</td>\n",
              "      <td>0.0226</td>\n",
              "      <td>9.290045</td>\n",
              "      <td>1.081515e+08</td>\n",
              "      <td>Subiu</td>\n",
              "      <td>0.1597</td>\n",
              "      <td>8.191774</td>\n",
              "      <td>6.738901e+08</td>\n",
              "      <td>Subiu</td>\n",
              "    </tr>\n",
              "    <tr>\n",
              "      <th>1</th>\n",
              "      <td>CMIN3</td>\n",
              "      <td>2024-01-26</td>\n",
              "      <td>6.82</td>\n",
              "      <td>2.40</td>\n",
              "      <td>2.40</td>\n",
              "      <td>-12.11</td>\n",
              "      <td>-12.11</td>\n",
              "      <td>50.56</td>\n",
              "      <td>6.66</td>\n",
              "      <td>6.86</td>\n",
              "      <td>...</td>\n",
              "      <td>-1.043592e+09</td>\n",
              "      <td>Desceu</td>\n",
              "      <td>-0.1211</td>\n",
              "      <td>7.759700</td>\n",
              "      <td>-1.043592e+09</td>\n",
              "      <td>Desceu</td>\n",
              "      <td>0.5056</td>\n",
              "      <td>4.529756</td>\n",
              "      <td>2.543452e+09</td>\n",
              "      <td>Subiu</td>\n",
              "    </tr>\n",
              "    <tr>\n",
              "      <th>2</th>\n",
              "      <td>PETR3</td>\n",
              "      <td>2024-01-26</td>\n",
              "      <td>41.96</td>\n",
              "      <td>2.19</td>\n",
              "      <td>7.73</td>\n",
              "      <td>7.64</td>\n",
              "      <td>7.64</td>\n",
              "      <td>77.55</td>\n",
              "      <td>40.81</td>\n",
              "      <td>42.34</td>\n",
              "      <td>...</td>\n",
              "      <td>7.087773e+09</td>\n",
              "      <td>Subiu</td>\n",
              "      <td>0.0764</td>\n",
              "      <td>38.981791</td>\n",
              "      <td>7.087773e+09</td>\n",
              "      <td>Subiu</td>\n",
              "      <td>0.7755</td>\n",
              "      <td>23.632780</td>\n",
              "      <td>4.361654e+10</td>\n",
              "      <td>Subiu</td>\n",
              "    </tr>\n",
              "    <tr>\n",
              "      <th>3</th>\n",
              "      <td>SUZB3</td>\n",
              "      <td>2024-01-26</td>\n",
              "      <td>52.91</td>\n",
              "      <td>2.04</td>\n",
              "      <td>2.14</td>\n",
              "      <td>-4.89</td>\n",
              "      <td>-4.89</td>\n",
              "      <td>18.85</td>\n",
              "      <td>51.89</td>\n",
              "      <td>53.17</td>\n",
              "      <td>...</td>\n",
              "      <td>-1.859212e+09</td>\n",
              "      <td>Desceu</td>\n",
              "      <td>-0.0489</td>\n",
              "      <td>55.630323</td>\n",
              "      <td>-1.859212e+09</td>\n",
              "      <td>Desceu</td>\n",
              "      <td>0.1885</td>\n",
              "      <td>44.518300</td>\n",
              "      <td>5.735331e+09</td>\n",
              "      <td>Subiu</td>\n",
              "    </tr>\n",
              "    <tr>\n",
              "      <th>4</th>\n",
              "      <td>CPFE3</td>\n",
              "      <td>2024-01-26</td>\n",
              "      <td>37.10</td>\n",
              "      <td>2.03</td>\n",
              "      <td>2.49</td>\n",
              "      <td>-3.66</td>\n",
              "      <td>-3.66</td>\n",
              "      <td>20.70</td>\n",
              "      <td>36.37</td>\n",
              "      <td>37.32</td>\n",
              "      <td>...</td>\n",
              "      <td>-2.645988e+08</td>\n",
              "      <td>Desceu</td>\n",
              "      <td>-0.0366</td>\n",
              "      <td>38.509446</td>\n",
              "      <td>-2.645988e+08</td>\n",
              "      <td>Desceu</td>\n",
              "      <td>0.2070</td>\n",
              "      <td>30.737365</td>\n",
              "      <td>1.194474e+09</td>\n",
              "      <td>Subiu</td>\n",
              "    </tr>\n",
              "    <tr>\n",
              "      <th>5</th>\n",
              "      <td>PRIO3</td>\n",
              "      <td>2024-01-26</td>\n",
              "      <td>45.69</td>\n",
              "      <td>1.98</td>\n",
              "      <td>2.42</td>\n",
              "      <td>-0.78</td>\n",
              "      <td>-0.78</td>\n",
              "      <td>8.08</td>\n",
              "      <td>44.25</td>\n",
              "      <td>45.69</td>\n",
              "      <td>...</td>\n",
              "      <td>-2.873508e+08</td>\n",
              "      <td>Desceu</td>\n",
              "      <td>-0.0078</td>\n",
              "      <td>46.049184</td>\n",
              "      <td>-2.873508e+08</td>\n",
              "      <td>Desceu</td>\n",
              "      <td>0.0808</td>\n",
              "      <td>42.274241</td>\n",
              "      <td>2.732644e+09</td>\n",
              "      <td>Subiu</td>\n",
              "    </tr>\n",
              "  </tbody>\n",
              "</table>\n",
              "<p>6 rows × 32 columns</p>\n",
              "</div>\n",
              "    <div class=\"colab-df-buttons\">\n",
              "\n",
              "  <div class=\"colab-df-container\">\n",
              "    <button class=\"colab-df-convert\" onclick=\"convertToInteractive('df-db3317b9-f030-4e4d-845a-f443afe538cd')\"\n",
              "            title=\"Convert this dataframe to an interactive table.\"\n",
              "            style=\"display:none;\">\n",
              "\n",
              "  <svg xmlns=\"http://www.w3.org/2000/svg\" height=\"24px\" viewBox=\"0 -960 960 960\">\n",
              "    <path d=\"M120-120v-720h720v720H120Zm60-500h600v-160H180v160Zm220 220h160v-160H400v160Zm0 220h160v-160H400v160ZM180-400h160v-160H180v160Zm440 0h160v-160H620v160ZM180-180h160v-160H180v160Zm440 0h160v-160H620v160Z\"/>\n",
              "  </svg>\n",
              "    </button>\n",
              "\n",
              "  <style>\n",
              "    .colab-df-container {\n",
              "      display:flex;\n",
              "      gap: 12px;\n",
              "    }\n",
              "\n",
              "    .colab-df-convert {\n",
              "      background-color: #E8F0FE;\n",
              "      border: none;\n",
              "      border-radius: 50%;\n",
              "      cursor: pointer;\n",
              "      display: none;\n",
              "      fill: #1967D2;\n",
              "      height: 32px;\n",
              "      padding: 0 0 0 0;\n",
              "      width: 32px;\n",
              "    }\n",
              "\n",
              "    .colab-df-convert:hover {\n",
              "      background-color: #E2EBFA;\n",
              "      box-shadow: 0px 1px 2px rgba(60, 64, 67, 0.3), 0px 1px 3px 1px rgba(60, 64, 67, 0.15);\n",
              "      fill: #174EA6;\n",
              "    }\n",
              "\n",
              "    .colab-df-buttons div {\n",
              "      margin-bottom: 4px;\n",
              "    }\n",
              "\n",
              "    [theme=dark] .colab-df-convert {\n",
              "      background-color: #3B4455;\n",
              "      fill: #D2E3FC;\n",
              "    }\n",
              "\n",
              "    [theme=dark] .colab-df-convert:hover {\n",
              "      background-color: #434B5C;\n",
              "      box-shadow: 0px 1px 3px 1px rgba(0, 0, 0, 0.15);\n",
              "      filter: drop-shadow(0px 1px 2px rgba(0, 0, 0, 0.3));\n",
              "      fill: #FFFFFF;\n",
              "    }\n",
              "  </style>\n",
              "\n",
              "    <script>\n",
              "      const buttonEl =\n",
              "        document.querySelector('#df-db3317b9-f030-4e4d-845a-f443afe538cd button.colab-df-convert');\n",
              "      buttonEl.style.display =\n",
              "        google.colab.kernel.accessAllowed ? 'block' : 'none';\n",
              "\n",
              "      async function convertToInteractive(key) {\n",
              "        const element = document.querySelector('#df-db3317b9-f030-4e4d-845a-f443afe538cd');\n",
              "        const dataTable =\n",
              "          await google.colab.kernel.invokeFunction('convertToInteractive',\n",
              "                                                    [key], {});\n",
              "        if (!dataTable) return;\n",
              "\n",
              "        const docLinkHtml = 'Like what you see? Visit the ' +\n",
              "          '<a target=\"_blank\" href=https://colab.research.google.com/notebooks/data_table.ipynb>data table notebook</a>'\n",
              "          + ' to learn more about interactive tables.';\n",
              "        element.innerHTML = '';\n",
              "        dataTable['output_type'] = 'display_data';\n",
              "        await google.colab.output.renderOutput(dataTable, element);\n",
              "        const docLink = document.createElement('div');\n",
              "        docLink.innerHTML = docLinkHtml;\n",
              "        element.appendChild(docLink);\n",
              "      }\n",
              "    </script>\n",
              "  </div>\n",
              "\n",
              "\n",
              "<div id=\"df-f4d49f87-d60f-4861-b9ce-2f892fd0984d\">\n",
              "  <button class=\"colab-df-quickchart\" onclick=\"quickchart('df-f4d49f87-d60f-4861-b9ce-2f892fd0984d')\"\n",
              "            title=\"Suggest charts\"\n",
              "            style=\"display:none;\">\n",
              "\n",
              "<svg xmlns=\"http://www.w3.org/2000/svg\" height=\"24px\"viewBox=\"0 0 24 24\"\n",
              "     width=\"24px\">\n",
              "    <g>\n",
              "        <path d=\"M19 3H5c-1.1 0-2 .9-2 2v14c0 1.1.9 2 2 2h14c1.1 0 2-.9 2-2V5c0-1.1-.9-2-2-2zM9 17H7v-7h2v7zm4 0h-2V7h2v10zm4 0h-2v-4h2v4z\"/>\n",
              "    </g>\n",
              "</svg>\n",
              "  </button>\n",
              "\n",
              "<style>\n",
              "  .colab-df-quickchart {\n",
              "      --bg-color: #E8F0FE;\n",
              "      --fill-color: #1967D2;\n",
              "      --hover-bg-color: #E2EBFA;\n",
              "      --hover-fill-color: #174EA6;\n",
              "      --disabled-fill-color: #AAA;\n",
              "      --disabled-bg-color: #DDD;\n",
              "  }\n",
              "\n",
              "  [theme=dark] .colab-df-quickchart {\n",
              "      --bg-color: #3B4455;\n",
              "      --fill-color: #D2E3FC;\n",
              "      --hover-bg-color: #434B5C;\n",
              "      --hover-fill-color: #FFFFFF;\n",
              "      --disabled-bg-color: #3B4455;\n",
              "      --disabled-fill-color: #666;\n",
              "  }\n",
              "\n",
              "  .colab-df-quickchart {\n",
              "    background-color: var(--bg-color);\n",
              "    border: none;\n",
              "    border-radius: 50%;\n",
              "    cursor: pointer;\n",
              "    display: none;\n",
              "    fill: var(--fill-color);\n",
              "    height: 32px;\n",
              "    padding: 0;\n",
              "    width: 32px;\n",
              "  }\n",
              "\n",
              "  .colab-df-quickchart:hover {\n",
              "    background-color: var(--hover-bg-color);\n",
              "    box-shadow: 0 1px 2px rgba(60, 64, 67, 0.3), 0 1px 3px 1px rgba(60, 64, 67, 0.15);\n",
              "    fill: var(--button-hover-fill-color);\n",
              "  }\n",
              "\n",
              "  .colab-df-quickchart-complete:disabled,\n",
              "  .colab-df-quickchart-complete:disabled:hover {\n",
              "    background-color: var(--disabled-bg-color);\n",
              "    fill: var(--disabled-fill-color);\n",
              "    box-shadow: none;\n",
              "  }\n",
              "\n",
              "  .colab-df-spinner {\n",
              "    border: 2px solid var(--fill-color);\n",
              "    border-color: transparent;\n",
              "    border-bottom-color: var(--fill-color);\n",
              "    animation:\n",
              "      spin 1s steps(1) infinite;\n",
              "  }\n",
              "\n",
              "  @keyframes spin {\n",
              "    0% {\n",
              "      border-color: transparent;\n",
              "      border-bottom-color: var(--fill-color);\n",
              "      border-left-color: var(--fill-color);\n",
              "    }\n",
              "    20% {\n",
              "      border-color: transparent;\n",
              "      border-left-color: var(--fill-color);\n",
              "      border-top-color: var(--fill-color);\n",
              "    }\n",
              "    30% {\n",
              "      border-color: transparent;\n",
              "      border-left-color: var(--fill-color);\n",
              "      border-top-color: var(--fill-color);\n",
              "      border-right-color: var(--fill-color);\n",
              "    }\n",
              "    40% {\n",
              "      border-color: transparent;\n",
              "      border-right-color: var(--fill-color);\n",
              "      border-top-color: var(--fill-color);\n",
              "    }\n",
              "    60% {\n",
              "      border-color: transparent;\n",
              "      border-right-color: var(--fill-color);\n",
              "    }\n",
              "    80% {\n",
              "      border-color: transparent;\n",
              "      border-right-color: var(--fill-color);\n",
              "      border-bottom-color: var(--fill-color);\n",
              "    }\n",
              "    90% {\n",
              "      border-color: transparent;\n",
              "      border-bottom-color: var(--fill-color);\n",
              "    }\n",
              "  }\n",
              "</style>\n",
              "\n",
              "  <script>\n",
              "    async function quickchart(key) {\n",
              "      const quickchartButtonEl =\n",
              "        document.querySelector('#' + key + ' button');\n",
              "      quickchartButtonEl.disabled = true;  // To prevent multiple clicks.\n",
              "      quickchartButtonEl.classList.add('colab-df-spinner');\n",
              "      try {\n",
              "        const charts = await google.colab.kernel.invokeFunction(\n",
              "            'suggestCharts', [key], {});\n",
              "      } catch (error) {\n",
              "        console.error('Error during call to suggestCharts:', error);\n",
              "      }\n",
              "      quickchartButtonEl.classList.remove('colab-df-spinner');\n",
              "      quickchartButtonEl.classList.add('colab-df-quickchart-complete');\n",
              "    }\n",
              "    (() => {\n",
              "      let quickchartButtonEl =\n",
              "        document.querySelector('#df-f4d49f87-d60f-4861-b9ce-2f892fd0984d button');\n",
              "      quickchartButtonEl.style.display =\n",
              "        google.colab.kernel.accessAllowed ? 'block' : 'none';\n",
              "    })();\n",
              "  </script>\n",
              "</div>\n",
              "\n",
              "    </div>\n",
              "  </div>\n"
            ],
            "application/vnd.google.colaboratory.intrinsic+json": {
              "type": "dataframe"
            }
          },
          "metadata": {}
        }
      ],
      "source": [
        "df = pd.read_excel('/content/drive/MyDrive/Colab Notebooks/acoes-b3-df.xlsx')\n",
        "display(df.head(6))"
      ]
    },
    {
      "cell_type": "code",
      "execution_count": 23,
      "metadata": {
        "colab": {
          "base_uri": "https://localhost:8080/"
        },
        "id": "pKwJdcb-5HFD",
        "outputId": "e4075844-c234-44aa-edcc-0e2e653dc82b"
      },
      "outputs": [
        {
          "output_type": "stream",
          "name": "stdout",
          "text": [
            "    Valor Inicial (R$).3  Ativo\n",
            "0               9.290045  USIM5\n",
            "1               7.759700  CMIN3\n",
            "2              38.981791  PETR3\n",
            "3              55.630323  SUZB3\n",
            "4              38.509446  CPFE3\n",
            "..                   ...    ...\n",
            "76             12.450593  CRFB3\n",
            "77             11.379987  BHIA3\n",
            "78             63.598326  RENT3\n",
            "79              3.500171  CVCB3\n",
            "80              8.969697  GOLL4\n",
            "\n",
            "[81 rows x 2 columns]\n"
          ]
        }
      ],
      "source": [
        "valor_inicial_3 = df[['Valor Inicial (R$).3','Ativo']]\n",
        "print(valor_inicial_3)"
      ]
    },
    {
      "cell_type": "code",
      "execution_count": 24,
      "metadata": {
        "colab": {
          "base_uri": "https://localhost:8080/"
        },
        "id": "puYMc2nm4qua",
        "outputId": "3b410fa1-6ee5-4ed8-f046-e7d2561e505a"
      },
      "outputs": [
        {
          "output_type": "execute_result",
          "data": {
            "text/plain": [
              "0     1.081515e+08\n",
              "1    -1.043592e+09\n",
              "2     7.087773e+09\n",
              "3    -1.859212e+09\n",
              "4    -2.645988e+08\n",
              "          ...     \n",
              "76   -9.294602e+08\n",
              "77   -2.541781e+08\n",
              "78   -6.278141e+09\n",
              "79   -2.260905e+08\n",
              "80   -6.044039e+08\n",
              "Name: Variação $.2, Length: 81, dtype: float64"
            ]
          },
          "metadata": {},
          "execution_count": 24
        }
      ],
      "source": [
        "variacao = df[\"Variação $.2\"]\n",
        "variacao"
      ]
    },
    {
      "cell_type": "code",
      "source": [
        "resultado = df.loc[0:5,'Resultado.3']\n",
        "#resultado = resultado.tolist()\n",
        "print(resultado)"
      ],
      "metadata": {
        "colab": {
          "base_uri": "https://localhost:8080/"
        },
        "id": "Xuj8a0ShVpcO",
        "outputId": "c40a7a5e-bd57-41d3-d781-309724601e2c"
      },
      "execution_count": 25,
      "outputs": [
        {
          "output_type": "stream",
          "name": "stdout",
          "text": [
            "0     Subiu\n",
            "1    Desceu\n",
            "2     Subiu\n",
            "3    Desceu\n",
            "4    Desceu\n",
            "5    Desceu\n",
            "Name: Resultado.3, dtype: object\n"
          ]
        }
      ]
    },
    {
      "cell_type": "code",
      "source": [
        "ativo = df.loc[0:5,\"Ativo\"]\n",
        "print(ativo)"
      ],
      "metadata": {
        "colab": {
          "base_uri": "https://localhost:8080/"
        },
        "id": "Pzba4z3oWlTA",
        "outputId": "42a8bd56-9bce-41c5-8200-a67765896963"
      },
      "execution_count": 26,
      "outputs": [
        {
          "output_type": "stream",
          "name": "stdout",
          "text": [
            "0    USIM5\n",
            "1    CMIN3\n",
            "2    PETR3\n",
            "3    SUZB3\n",
            "4    CPFE3\n",
            "5    PRIO3\n",
            "Name: Ativo, dtype: object\n"
          ]
        }
      ]
    },
    {
      "cell_type": "code",
      "execution_count": 27,
      "metadata": {
        "colab": {
          "base_uri": "https://localhost:8080/",
          "height": 275
        },
        "id": "Ib2XSy1G5vZS",
        "outputId": "87e5dc2e-c30a-4c5a-a65b-1c9cb04b8c83"
      },
      "outputs": [
        {
          "output_type": "execute_result",
          "data": {
            "text/plain": [
              "Text(0, 0.5, 'variação da ação')"
            ]
          },
          "metadata": {},
          "execution_count": 27
        },
        {
          "output_type": "display_data",
          "data": {
            "text/plain": [
              "<Figure size 640x480 with 1 Axes>"
            ],
            "image/png": "[encoded data removed]"
          },
          "metadata": {}
        }
      ],
      "source": [
        "variacao = variacao[:6]\n",
        "plt.bar(ativo, variacao)\n",
        "plt.xlabel('ativo')\n",
        "plt.ylabel('variação da ação')"
      ]
    },
    {
      "cell_type": "code",
      "source": [
        "plt.bar(resultado,variacao)\n",
        "plt.xlabel('resultado')\n",
        "plt.ylabel('variação da ação')"
      ],
      "metadata": {
        "colab": {
          "base_uri": "https://localhost:8080/",
          "height": 275
        },
        "id": "zxuZyuVHW3ph",
        "outputId": "d6ac3816-4e3f-498c-dbdd-9e921e5fc1f1"
      },
      "execution_count": 29,
      "outputs": [
        {
          "output_type": "execute_result",
          "data": {
            "text/plain": [
              "Text(0, 0.5, 'variação da ação')"
            ]
          },
          "metadata": {},
          "execution_count": 29
        },
        {
          "output_type": "display_data",
          "data": {
            "text/plain": [
              "<Figure size 640x480 with 1 Axes>"
            ],
            "image/png": "[encoded data removed]"
          },
          "metadata": {}
        }
      ]
    },
    {
      "cell_type": "code",
      "source": [
        "valor_inicial = df.loc[0:5,'Valor Inicial (R$).3']\n",
        "print(valor_inicial)"
      ],
      "metadata": {
        "colab": {
          "base_uri": "https://localhost:8080/"
        },
        "id": "iF7KQGFdWut5",
        "outputId": "870db7a3-6baa-4567-e7fc-004b34d09a41"
      },
      "execution_count": 30,
      "outputs": [
        {
          "output_type": "stream",
          "name": "stdout",
          "text": [
            "0     9.290045\n",
            "1     7.759700\n",
            "2    38.981791\n",
            "3    55.630323\n",
            "4    38.509446\n",
            "5    46.049184\n",
            "Name: Valor Inicial (R$).3, dtype: float64\n"
          ]
        }
      ]
    },
    {
      "cell_type": "code",
      "source": [
        "plt.bar(ativo,valor_inicial)\n",
        "plt.xlabel('ativo')\n",
        "plt.ylabel('valor inicial')"
      ],
      "metadata": {
        "colab": {
          "base_uri": "https://localhost:8080/",
          "height": 268
        },
        "id": "P-TYEqBIXJg1",
        "outputId": "74f0474e-5272-451d-d24b-c403a623ef05"
      },
      "execution_count": 31,
      "outputs": [
        {
          "output_type": "execute_result",
          "data": {
            "text/plain": [
              "Text(0, 0.5, 'valor inicial')"
            ]
          },
          "metadata": {},
          "execution_count": 31
        },
        {
          "output_type": "display_data",
          "data": {
            "text/plain": [
              "<Figure size 640x480 with 1 Axes>"
            ],
            "image/png": "[encoded data removed]"
          },
          "metadata": {}
        }
      ]
    },
    {
      "cell_type": "code",
      "source": [
        "valor_final = df.loc[0:5,'Último (R$)']\n",
        "print(valor_final)"
      ],
      "metadata": {
        "colab": {
          "base_uri": "https://localhost:8080/"
        },
        "id": "gABRfkVGXzek",
        "outputId": "62bbe099-25a9-4c02-8527-452d596eb5c8"
      },
      "execution_count": 32,
      "outputs": [
        {
          "output_type": "stream",
          "name": "stdout",
          "text": [
            "0     9.50\n",
            "1     6.82\n",
            "2    41.96\n",
            "3    52.91\n",
            "4    37.10\n",
            "5    45.69\n",
            "Name: Último (R$), dtype: float64\n"
          ]
        }
      ]
    },
    {
      "cell_type": "code",
      "source": [
        "plt.bar(ativo,valor_final)\n",
        "plt.xlabel('ativo')\n",
        "plt.ylabel('valor final')"
      ],
      "metadata": {
        "colab": {
          "base_uri": "https://localhost:8080/",
          "height": 268
        },
        "id": "RI4ByzTKYC9l",
        "outputId": "df0fa844-9ba4-4bfd-f640-7396cbb51d2d"
      },
      "execution_count": 33,
      "outputs": [
        {
          "output_type": "execute_result",
          "data": {
            "text/plain": [
              "Text(0, 0.5, 'valor final')"
            ]
          },
          "metadata": {},
          "execution_count": 33
        },
        {
          "output_type": "display_data",
          "data": {
            "text/plain": [
              "<Figure size 640x480 with 1 Axes>"
            ],
            "image/png": "[encoded data removed]"
          },
          "metadata": {}
        }
      ]
    },
    {
      "cell_type": "code",
      "source": [
        "media = st.mean(valor_inicial)\n",
        "dp = st.stdev(valor_inicial)\n",
        "moda = st.mode(valor_inicial)\n",
        "print(f'media: {media:.2f}')\n",
        "print(f'desvio padrão: {dp:.2f}')\n",
        "print(f'moda: {moda:.2f}')"
      ],
      "metadata": {
        "colab": {
          "base_uri": "https://localhost:8080/"
        },
        "id": "LWhQc2ypXc-k",
        "outputId": "90f18ad4-4990-48f1-d1ac-7c13fc7e83d8"
      },
      "execution_count": 34,
      "outputs": [
        {
          "output_type": "stream",
          "name": "stdout",
          "text": [
            "media: 32.70\n",
            "desvio padrão: 19.73\n",
            "moda: 9.29\n"
          ]
        }
      ]
    },
    {
      "cell_type": "code",
      "source": [
        "media2 = st.mean(valor_final)\n",
        "dp2 = st.stdev(valor_final)\n",
        "moda2 = st.mode(valor_final)\n",
        "print(f'media: {media2:.2f}')\n",
        "print(f'desvio padrão: {dp2:.2f}')\n",
        "print(f'moda: {moda2:.2f}')"
      ],
      "metadata": {
        "id": "L4BJQLHyTJFE",
        "outputId": "b7103938-8263-4381-e613-53ffd32bdbe7",
        "colab": {
          "base_uri": "https://localhost:8080/"
        }
      },
      "execution_count": 35,
      "outputs": [
        {
          "output_type": "stream",
          "name": "stdout",
          "text": [
            "media: 32.33\n",
            "desvio padrão: 19.44\n",
            "moda: 9.50\n"
          ]
        }
      ]
    },
    {
      "cell_type": "code",
      "source": [
        "data=df.loc[0:5,\"Data\"]\n",
        "data"
      ],
      "metadata": {
        "id": "tRXUGfE6TnFq",
        "outputId": "baf51054-b8b1-4aa0-90b8-642f14311411",
        "colab": {
          "base_uri": "https://localhost:8080/"
        }
      },
      "execution_count": 37,
      "outputs": [
        {
          "output_type": "execute_result",
          "data": {
            "text/plain": [
              "0   2024-01-26\n",
              "1   2024-01-26\n",
              "2   2024-01-26\n",
              "3   2024-01-26\n",
              "4   2024-01-26\n",
              "5   2024-01-26\n",
              "Name: Data, dtype: datetime64[ns]"
            ]
          },
          "metadata": {},
          "execution_count": 37
        }
      ]
    },
    {
      "cell_type": "code",
      "source": [
        "plt.plot(data,valor_inicial)"
      ],
      "metadata": {
        "id": "O7cpZ0dYUulv",
        "outputId": "82fe8b55-aca0-4c81-cd43-ad960f9565b0",
        "colab": {
          "base_uri": "https://localhost:8080/",
          "height": 283
        }
      },
      "execution_count": 42,
      "outputs": [
        {
          "output_type": "execute_result",
          "data": {
            "text/plain": [
              "[<matplotlib.lines.Line2D at 0x7d178846d1b0>]"
            ]
          },
          "metadata": {},
          "execution_count": 42
        },
        {
          "output_type": "display_data",
          "data": {
            "text/plain": [
              "<Figure size 640x480 with 1 Axes>"
            ],
            "image/png": "[encoded data removed]"
          },
          "metadata": {}
        }
      ]
    },
    {
      "cell_type": "code",
      "source": [
        "plt.plot(data,valor_final)"
      ],
      "metadata": {
        "id": "-_MYKCcKVOaQ",
        "outputId": "f82cb6d8-a700-40b7-863c-ce83346f287e",
        "colab": {
          "base_uri": "https://localhost:8080/",
          "height": 283
        }
      },
      "execution_count": 40,
      "outputs": [
        {
          "output_type": "execute_result",
          "data": {
            "text/plain": [
              "[<matplotlib.lines.Line2D at 0x7d17882eeb30>]"
            ]
          },
          "metadata": {},
          "execution_count": 40
        },
        {
          "output_type": "display_data",
          "data": {
            "text/plain": [
              "<Figure size 640x480 with 1 Axes>"
            ],
            "image/png": "[encoded data removed]"
          },
          "metadata": {}
        }
      ]
    }
  ],
  "metadata": {
    "colab": {
      "provenance": [],
      "mount_file_id": "1Elrxwm7E2KsuH8T0MABY77L2lb-5xP4V",
      "authorship_tag": "ABX9TyMYCeIAkG7ya+X7pxhCVfXh",
      "include_colab_link": true
    },
    "kernelspec": {
      "display_name": "Python 3",
      "name": "python3"
    },
    "language_info": {
      "name": "python"
    }
  },
  "nbformat": 4,
  "nbformat_minor": 0
}