{
  "nbformat": 4,
  "nbformat_minor": 0,
  "metadata": {
    "colab": {
      "provenance": [],
      "authorship_tag": "ABX9TyOwl8F/FxthnMb1q4x6JZ6u",
      "include_colab_link": true
    },
    "kernelspec": {
      "name": "python3",
      "display_name": "Python 3"
    },
    "language_info": {
      "name": "python"
    }
  },
  "cells": [
    {
      "cell_type": "markdown",
      "metadata": {
        "id": "view-in-github",
        "colab_type": "text"
      },
      "source": [
        "<a href=\"https://colab.research.google.com/github/jeniferGoncalvesDaSilvaDev/python-finance/blob/main/desafio-para-o-groot.ipynb\" target=\"_parent\"><img src=\"https://colab.research.google.com/assets/colab-badge.svg\" alt=\"Open In Colab\"/></a>"
      ]
    },
    {
      "cell_type": "code",
      "execution_count": null,
      "metadata": {
        "colab": {
          "base_uri": "https://localhost:8080/"
        },
        "id": "CMDVQ8Q17EcW",
        "outputId": "388b1d7d-66e5-4b7e-d4f3-3464fa0d6be0"
      },
      "outputs": [
        {
          "output_type": "stream",
          "name": "stdout",
          "text": [
            "true\n",
            "['filho1']\n",
            "true\n",
            "['filho1', 'filho2']\n"
          ]
        }
      ],
      "source": [
        "#desafio atravessar o rio \n",
        "#items: pai, mae, 2 filhos, duas filhas, policial, prisioneira \n",
        "margemA = ['pai', 'mae', 'filho1', 'filho2', 'filha1', 'filha2', 'policial', 'prisioneiro']\n",
        "margemB = []\n",
        "jangada = []\n",
        "#a condiçao deve-se retonar true ou false\n",
        "\"\"\"\n",
        "Cenário: oito pessoas estão em uma margem de um rio e precisam\n",
        "atravessá-lo. O único meio de transporte para a travessia é uma jangada. As\n",
        "pessoas que precisam atravessar o rio são: pai, mãe, dois filhos, duas filhas,\n",
        "um policial e uma prisioneira.\n",
        "Porém, para a travessia, algumas regras são obrigatórias e precisam ser\n",
        "seguidas:\n",
        "1. A jangada só pode carregar duas pessoas por vez;\n",
        "2. Somente o pai, a mãe e o policial sabem manobrar a jangada;\n",
        "3. Os filhos não podem ficar com a mãe na ausência do pai em nenhuma\n",
        "das margens do rio;\n",
        "4. Os filhos não podem ser transportados pela mãe;\n",
        "5. As filhas não podem ficar com o pai na ausência da mãe em nenhuma das\n",
        "margens do rio;\n",
        "6. As filhas não podem ser transportadas pelo pai;\n",
        "7. A prisioneira não pode\n",
        "\"\"\"\n",
        "#verificar o numero de itens permitido na jangada\n",
        "#pai\n",
        "if len(jangada)> 2:\n",
        "   print('ultrapassou o limite de itens ')\n",
        "else:\n",
        "   jangada.append(margemA[0])\n",
        "   jangada.append(margemA[2])\n",
        "   if 'pai'and 'filho1' in jangada:\n",
        "    print('true')\n",
        "    margemB.append(margemA[2])\n",
        "    print(margemB)\n",
        "   else:\n",
        "    print('false')\n",
        "if len(jangada) >2:\n",
        "  print('ultrapassou o limite de intens')\n",
        "else:\n",
        "  jangada.append(margemA[0])\n",
        "  jangada.append(margemA[3])\n",
        "  if 'pai' and 'filho2' in jangada:\n",
        "    print('true')\n",
        "    margemB.append(margemA[3])\n",
        "    print(margemB)\n",
        "  else:\n",
        "    print('false')\n",
        "  "
      ]
    }
  ]
}