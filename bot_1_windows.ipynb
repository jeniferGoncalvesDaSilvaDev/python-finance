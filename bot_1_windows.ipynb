{
  "cells": [
    {
      "cell_type": "markdown",
      "metadata": {
        "id": "view-in-github",
        "colab_type": "text"
      },
      "source": [
        "<a href=\"https://colab.research.google.com/github/jeniferGoncalvesDaSilvaDev/python-finance/blob/main/bot_1_windows.ipynb\" target=\"_parent\"><img src=\"https://colab.research.google.com/assets/colab-badge.svg\" alt=\"Open In Colab\"/></a>"
      ]
    },
    {
      "cell_type": "markdown",
      "id": "d5355376-7a59-4154-a82d-6405d0156e89",
      "metadata": {
        "id": "d5355376-7a59-4154-a82d-6405d0156e89"
      },
      "source": [
        "# Projeto 1: Report de mercado\n",
        "\n",
        "### Desafio:\n",
        "\n",
        "* Criar um robô que automatiza um relatório de fechamento de mercado através da coleta de cotações históricas do Ibovespa, S&P500, Dólar e BTC, enviando o report diário através de uma ferramenta de e-mail.  \n",
        "\n",
        "### Passo a passo:\n",
        "\n",
        "*   **Passo 1** - Instalar e importar os módulos e bibliotecas.\n",
        "   \n",
        "   \n",
        "*   **Passo 2** - Pegar as cotações históricas.\n",
        "   \n",
        "   \n",
        "*   **Passo 3** - Tratar dados coletados.\n",
        "   \n",
        "   \n",
        "*   **Passo 4** - Criar gráficos de performance.\n",
        "   \n",
        "   \n",
        "*   **Passo 5** - Calcular retornos diários.\n",
        "   \n",
        "   \n",
        "*   **Passo 6** - Configurar e enviar o e-mail.\n",
        "\n",
        "# Dúvidas no meu INSTAGRAM @BRENNO.VAROS\n",
        "   \n",
        "-------------------"
      ]
    },
    {
      "cell_type": "markdown",
      "id": "ef8505e8-178d-4615-b4f0-b498d9fb298e",
      "metadata": {
        "id": "ef8505e8-178d-4615-b4f0-b498d9fb298e"
      },
      "source": [
        "# Passo 1 - Instalar e importar os módulos e bibliotecas."
      ]
    },
    {
      "cell_type": "code",
      "execution_count": null,
      "id": "5bce580f-1e45-4b2b-b338-44199391a734",
      "metadata": {
        "id": "5bce580f-1e45-4b2b-b338-44199391a734"
      },
      "outputs": [],
      "source": [
        "!pip install mplcyberpunk"
      ]
    },
    {
      "cell_type": "code",
      "execution_count": null,
      "id": "0ebd28b2-c49a-4a00-9e78-392b3f83eb39",
      "metadata": {
        "id": "0ebd28b2-c49a-4a00-9e78-392b3f83eb39"
      },
      "outputs": [],
      "source": [
        "!pip install yfinance"
      ]
    },
    {
      "cell_type": "code",
      "execution_count": null,
      "id": "92711384-2dfa-43e4-ba09-1c25623e7b56",
      "metadata": {
        "id": "92711384-2dfa-43e4-ba09-1c25623e7b56"
      },
      "outputs": [],
      "source": [
        "import yfinance as yf\n",
        "import pandas as pd\n",
        "import matplotlib.pyplot as plt\n",
        "import mplcyberpunk"
      ]
    },
    {
      "cell_type": "markdown",
      "id": "c41ae13e-6948-4e4e-8543-572828ab6a3c",
      "metadata": {
        "id": "c41ae13e-6948-4e4e-8543-572828ab6a3c"
      },
      "source": [
        "# Passo 2 - Pegar as cotações históricas"
      ]
    },
    {
      "cell_type": "code",
      "execution_count": null,
      "id": "969005bd-2d4b-4c66-8b0e-26f6cf409ee4",
      "metadata": {
        "id": "969005bd-2d4b-4c66-8b0e-26f6cf409ee4"
      },
      "outputs": [],
      "source": [
        "tickers = [\"^BVSP\", \"^GSPC\", \"BRL=X\", \"BTC-USD\"]"
      ]
    },
    {
      "cell_type": "code",
      "execution_count": null,
      "id": "ec3416d6-5ed8-496c-a568-c2858069aef7",
      "metadata": {
        "id": "ec3416d6-5ed8-496c-a568-c2858069aef7",
        "outputId": "0a20447a-648c-416e-fbbb-333fbc9ac438"
      },
      "outputs": [
        {
          "name": "stderr",
          "output_type": "stream",
          "text": [
            "[*********************100%%**********************]  4 of 4 completed\n"
          ]
        },
        {
          "data": {
            "text/html": [
              "<div>\n",
              "<style scoped>\n",
              "    .dataframe tbody tr th:only-of-type {\n",
              "        vertical-align: middle;\n",
              "    }\n",
              "\n",
              "    .dataframe tbody tr th {\n",
              "        vertical-align: top;\n",
              "    }\n",
              "\n",
              "    .dataframe thead th {\n",
              "        text-align: right;\n",
              "    }\n",
              "</style>\n",
              "<table border=\"1\" class=\"dataframe\">\n",
              "  <thead>\n",
              "    <tr style=\"text-align: right;\">\n",
              "      <th>Ticker</th>\n",
              "      <th>BRL=X</th>\n",
              "      <th>BTC-USD</th>\n",
              "      <th>^BVSP</th>\n",
              "      <th>^GSPC</th>\n",
              "    </tr>\n",
              "    <tr>\n",
              "      <th>Date</th>\n",
              "      <th></th>\n",
              "      <th></th>\n",
              "      <th></th>\n",
              "      <th></th>\n",
              "    </tr>\n",
              "  </thead>\n",
              "  <tbody>\n",
              "    <tr>\n",
              "      <th>2024-07-28</th>\n",
              "      <td>NaN</td>\n",
              "      <td>68255.867188</td>\n",
              "      <td>NaN</td>\n",
              "      <td>NaN</td>\n",
              "    </tr>\n",
              "    <tr>\n",
              "      <th>2024-07-29</th>\n",
              "      <td>5.622841</td>\n",
              "      <td>66819.914062</td>\n",
              "      <td>126954.00000</td>\n",
              "      <td>5463.540039</td>\n",
              "    </tr>\n",
              "    <tr>\n",
              "      <th>2024-07-30</th>\n",
              "      <td>5.614500</td>\n",
              "      <td>66201.015625</td>\n",
              "      <td>126139.00000</td>\n",
              "      <td>5436.439941</td>\n",
              "    </tr>\n",
              "    <tr>\n",
              "      <th>2024-07-31</th>\n",
              "      <td>5.611100</td>\n",
              "      <td>64619.250000</td>\n",
              "      <td>127652.00000</td>\n",
              "      <td>5522.299805</td>\n",
              "    </tr>\n",
              "    <tr>\n",
              "      <th>2024-08-01</th>\n",
              "      <td>5.656600</td>\n",
              "      <td>65357.500000</td>\n",
              "      <td>127395.00000</td>\n",
              "      <td>5446.680176</td>\n",
              "    </tr>\n",
              "    <tr>\n",
              "      <th>...</th>\n",
              "      <td>...</td>\n",
              "      <td>...</td>\n",
              "      <td>...</td>\n",
              "      <td>...</td>\n",
              "    </tr>\n",
              "    <tr>\n",
              "      <th>2025-01-24</th>\n",
              "      <td>5.924000</td>\n",
              "      <td>104819.484375</td>\n",
              "      <td>122447.00000</td>\n",
              "      <td>6101.240234</td>\n",
              "    </tr>\n",
              "    <tr>\n",
              "      <th>2025-01-25</th>\n",
              "      <td>NaN</td>\n",
              "      <td>104714.648438</td>\n",
              "      <td>NaN</td>\n",
              "      <td>NaN</td>\n",
              "    </tr>\n",
              "    <tr>\n",
              "      <th>2025-01-26</th>\n",
              "      <td>NaN</td>\n",
              "      <td>102682.500000</td>\n",
              "      <td>NaN</td>\n",
              "      <td>NaN</td>\n",
              "    </tr>\n",
              "    <tr>\n",
              "      <th>2025-01-27</th>\n",
              "      <td>5.909100</td>\n",
              "      <td>NaN</td>\n",
              "      <td>124862.00000</td>\n",
              "      <td>6012.279785</td>\n",
              "    </tr>\n",
              "    <tr>\n",
              "      <th>2025-01-28</th>\n",
              "      <td>5.869800</td>\n",
              "      <td>102195.742188</td>\n",
              "      <td>124242.21875</td>\n",
              "      <td>6064.890137</td>\n",
              "    </tr>\n",
              "  </tbody>\n",
              "</table>\n",
              "<p>185 rows × 4 columns</p>\n",
              "</div>"
            ],
            "text/plain": [
              "Ticker         BRL=X        BTC-USD         ^BVSP        ^GSPC\n",
              "Date                                                          \n",
              "2024-07-28       NaN   68255.867188           NaN          NaN\n",
              "2024-07-29  5.622841   66819.914062  126954.00000  5463.540039\n",
              "2024-07-30  5.614500   66201.015625  126139.00000  5436.439941\n",
              "2024-07-31  5.611100   64619.250000  127652.00000  5522.299805\n",
              "2024-08-01  5.656600   65357.500000  127395.00000  5446.680176\n",
              "...              ...            ...           ...          ...\n",
              "2025-01-24  5.924000  104819.484375  122447.00000  6101.240234\n",
              "2025-01-25       NaN  104714.648438           NaN          NaN\n",
              "2025-01-26       NaN  102682.500000           NaN          NaN\n",
              "2025-01-27  5.909100            NaN  124862.00000  6012.279785\n",
              "2025-01-28  5.869800  102195.742188  124242.21875  6064.890137\n",
              "\n",
              "[185 rows x 4 columns]"
            ]
          },
          "execution_count": 5,
          "metadata": {},
          "output_type": "execute_result"
        }
      ],
      "source": [
        "dados_mercado = yf.download(tickers, period = \"6mo\")\n",
        "dados_mercado = dados_mercado[\"Adj Close\"]\n",
        "dados_mercado"
      ]
    },
    {
      "cell_type": "markdown",
      "id": "e76d0dd9-84dc-4f76-8273-5c5cd9c63166",
      "metadata": {
        "id": "e76d0dd9-84dc-4f76-8273-5c5cd9c63166"
      },
      "source": [
        "# Passo 3 - Tratar dados coletados."
      ]
    },
    {
      "cell_type": "code",
      "execution_count": null,
      "id": "a61ba6f9-f42f-44b5-80e3-9d414fe5fa8d",
      "metadata": {
        "id": "a61ba6f9-f42f-44b5-80e3-9d414fe5fa8d",
        "outputId": "48f15345-ff98-4a0e-df9b-21c695aab730"
      },
      "outputs": [
        {
          "data": {
            "text/html": [
              "<div>\n",
              "<style scoped>\n",
              "    .dataframe tbody tr th:only-of-type {\n",
              "        vertical-align: middle;\n",
              "    }\n",
              "\n",
              "    .dataframe tbody tr th {\n",
              "        vertical-align: top;\n",
              "    }\n",
              "\n",
              "    .dataframe thead th {\n",
              "        text-align: right;\n",
              "    }\n",
              "</style>\n",
              "<table border=\"1\" class=\"dataframe\">\n",
              "  <thead>\n",
              "    <tr style=\"text-align: right;\">\n",
              "      <th>Ticker</th>\n",
              "      <th>BRL=X</th>\n",
              "      <th>BTC-USD</th>\n",
              "      <th>^BVSP</th>\n",
              "      <th>^GSPC</th>\n",
              "    </tr>\n",
              "    <tr>\n",
              "      <th>Date</th>\n",
              "      <th></th>\n",
              "      <th></th>\n",
              "      <th></th>\n",
              "      <th></th>\n",
              "    </tr>\n",
              "  </thead>\n",
              "  <tbody>\n",
              "    <tr>\n",
              "      <th>2024-07-29</th>\n",
              "      <td>5.622841</td>\n",
              "      <td>66819.914062</td>\n",
              "      <td>126954.00000</td>\n",
              "      <td>5463.540039</td>\n",
              "    </tr>\n",
              "    <tr>\n",
              "      <th>2024-07-30</th>\n",
              "      <td>5.614500</td>\n",
              "      <td>66201.015625</td>\n",
              "      <td>126139.00000</td>\n",
              "      <td>5436.439941</td>\n",
              "    </tr>\n",
              "    <tr>\n",
              "      <th>2024-07-31</th>\n",
              "      <td>5.611100</td>\n",
              "      <td>64619.250000</td>\n",
              "      <td>127652.00000</td>\n",
              "      <td>5522.299805</td>\n",
              "    </tr>\n",
              "    <tr>\n",
              "      <th>2024-08-01</th>\n",
              "      <td>5.656600</td>\n",
              "      <td>65357.500000</td>\n",
              "      <td>127395.00000</td>\n",
              "      <td>5446.680176</td>\n",
              "    </tr>\n",
              "    <tr>\n",
              "      <th>2024-08-02</th>\n",
              "      <td>5.750600</td>\n",
              "      <td>61415.066406</td>\n",
              "      <td>125854.00000</td>\n",
              "      <td>5346.560059</td>\n",
              "    </tr>\n",
              "    <tr>\n",
              "      <th>...</th>\n",
              "      <td>...</td>\n",
              "      <td>...</td>\n",
              "      <td>...</td>\n",
              "      <td>...</td>\n",
              "    </tr>\n",
              "    <tr>\n",
              "      <th>2025-01-21</th>\n",
              "      <td>6.029800</td>\n",
              "      <td>106146.265625</td>\n",
              "      <td>123338.00000</td>\n",
              "      <td>6049.240234</td>\n",
              "    </tr>\n",
              "    <tr>\n",
              "      <th>2025-01-22</th>\n",
              "      <td>6.020500</td>\n",
              "      <td>103653.070312</td>\n",
              "      <td>122972.00000</td>\n",
              "      <td>6086.370117</td>\n",
              "    </tr>\n",
              "    <tr>\n",
              "      <th>2025-01-23</th>\n",
              "      <td>5.940300</td>\n",
              "      <td>103960.171875</td>\n",
              "      <td>122483.00000</td>\n",
              "      <td>6118.709961</td>\n",
              "    </tr>\n",
              "    <tr>\n",
              "      <th>2025-01-24</th>\n",
              "      <td>5.924000</td>\n",
              "      <td>104819.484375</td>\n",
              "      <td>122447.00000</td>\n",
              "      <td>6101.240234</td>\n",
              "    </tr>\n",
              "    <tr>\n",
              "      <th>2025-01-28</th>\n",
              "      <td>5.869800</td>\n",
              "      <td>102195.742188</td>\n",
              "      <td>124242.21875</td>\n",
              "      <td>6064.890137</td>\n",
              "    </tr>\n",
              "  </tbody>\n",
              "</table>\n",
              "<p>121 rows × 4 columns</p>\n",
              "</div>"
            ],
            "text/plain": [
              "Ticker         BRL=X        BTC-USD         ^BVSP        ^GSPC\n",
              "Date                                                          \n",
              "2024-07-29  5.622841   66819.914062  126954.00000  5463.540039\n",
              "2024-07-30  5.614500   66201.015625  126139.00000  5436.439941\n",
              "2024-07-31  5.611100   64619.250000  127652.00000  5522.299805\n",
              "2024-08-01  5.656600   65357.500000  127395.00000  5446.680176\n",
              "2024-08-02  5.750600   61415.066406  125854.00000  5346.560059\n",
              "...              ...            ...           ...          ...\n",
              "2025-01-21  6.029800  106146.265625  123338.00000  6049.240234\n",
              "2025-01-22  6.020500  103653.070312  122972.00000  6086.370117\n",
              "2025-01-23  5.940300  103960.171875  122483.00000  6118.709961\n",
              "2025-01-24  5.924000  104819.484375  122447.00000  6101.240234\n",
              "2025-01-28  5.869800  102195.742188  124242.21875  6064.890137\n",
              "\n",
              "[121 rows x 4 columns]"
            ]
          },
          "execution_count": 7,
          "metadata": {},
          "output_type": "execute_result"
        }
      ],
      "source": [
        "dados_mercado = dados_mercado.dropna()\n",
        "\n",
        "dados_mercado"
      ]
    },
    {
      "cell_type": "code",
      "execution_count": null,
      "id": "d10d22d9-105d-4c87-9d5d-d53b229c0de3",
      "metadata": {
        "id": "d10d22d9-105d-4c87-9d5d-d53b229c0de3",
        "outputId": "ea61de05-df10-4211-d414-f76fd2e8aba6"
      },
      "outputs": [
        {
          "data": {
            "text/html": [
              "<div>\n",
              "<style scoped>\n",
              "    .dataframe tbody tr th:only-of-type {\n",
              "        vertical-align: middle;\n",
              "    }\n",
              "\n",
              "    .dataframe tbody tr th {\n",
              "        vertical-align: top;\n",
              "    }\n",
              "\n",
              "    .dataframe thead th {\n",
              "        text-align: right;\n",
              "    }\n",
              "</style>\n",
              "<table border=\"1\" class=\"dataframe\">\n",
              "  <thead>\n",
              "    <tr style=\"text-align: right;\">\n",
              "      <th></th>\n",
              "      <th>DOLAR</th>\n",
              "      <th>BTC</th>\n",
              "      <th>IBOVESPA</th>\n",
              "      <th>S&amp;P500</th>\n",
              "    </tr>\n",
              "    <tr>\n",
              "      <th>Date</th>\n",
              "      <th></th>\n",
              "      <th></th>\n",
              "      <th></th>\n",
              "      <th></th>\n",
              "    </tr>\n",
              "  </thead>\n",
              "  <tbody>\n",
              "    <tr>\n",
              "      <th>2024-07-29</th>\n",
              "      <td>5.622841</td>\n",
              "      <td>66819.914062</td>\n",
              "      <td>126954.00000</td>\n",
              "      <td>5463.540039</td>\n",
              "    </tr>\n",
              "    <tr>\n",
              "      <th>2024-07-30</th>\n",
              "      <td>5.614500</td>\n",
              "      <td>66201.015625</td>\n",
              "      <td>126139.00000</td>\n",
              "      <td>5436.439941</td>\n",
              "    </tr>\n",
              "    <tr>\n",
              "      <th>2024-07-31</th>\n",
              "      <td>5.611100</td>\n",
              "      <td>64619.250000</td>\n",
              "      <td>127652.00000</td>\n",
              "      <td>5522.299805</td>\n",
              "    </tr>\n",
              "    <tr>\n",
              "      <th>2024-08-01</th>\n",
              "      <td>5.656600</td>\n",
              "      <td>65357.500000</td>\n",
              "      <td>127395.00000</td>\n",
              "      <td>5446.680176</td>\n",
              "    </tr>\n",
              "    <tr>\n",
              "      <th>2024-08-02</th>\n",
              "      <td>5.750600</td>\n",
              "      <td>61415.066406</td>\n",
              "      <td>125854.00000</td>\n",
              "      <td>5346.560059</td>\n",
              "    </tr>\n",
              "    <tr>\n",
              "      <th>...</th>\n",
              "      <td>...</td>\n",
              "      <td>...</td>\n",
              "      <td>...</td>\n",
              "      <td>...</td>\n",
              "    </tr>\n",
              "    <tr>\n",
              "      <th>2025-01-21</th>\n",
              "      <td>6.029800</td>\n",
              "      <td>106146.265625</td>\n",
              "      <td>123338.00000</td>\n",
              "      <td>6049.240234</td>\n",
              "    </tr>\n",
              "    <tr>\n",
              "      <th>2025-01-22</th>\n",
              "      <td>6.020500</td>\n",
              "      <td>103653.070312</td>\n",
              "      <td>122972.00000</td>\n",
              "      <td>6086.370117</td>\n",
              "    </tr>\n",
              "    <tr>\n",
              "      <th>2025-01-23</th>\n",
              "      <td>5.940300</td>\n",
              "      <td>103960.171875</td>\n",
              "      <td>122483.00000</td>\n",
              "      <td>6118.709961</td>\n",
              "    </tr>\n",
              "    <tr>\n",
              "      <th>2025-01-24</th>\n",
              "      <td>5.924000</td>\n",
              "      <td>104819.484375</td>\n",
              "      <td>122447.00000</td>\n",
              "      <td>6101.240234</td>\n",
              "    </tr>\n",
              "    <tr>\n",
              "      <th>2025-01-28</th>\n",
              "      <td>5.869800</td>\n",
              "      <td>102195.742188</td>\n",
              "      <td>124242.21875</td>\n",
              "      <td>6064.890137</td>\n",
              "    </tr>\n",
              "  </tbody>\n",
              "</table>\n",
              "<p>121 rows × 4 columns</p>\n",
              "</div>"
            ],
            "text/plain": [
              "               DOLAR            BTC      IBOVESPA       S&P500\n",
              "Date                                                          \n",
              "2024-07-29  5.622841   66819.914062  126954.00000  5463.540039\n",
              "2024-07-30  5.614500   66201.015625  126139.00000  5436.439941\n",
              "2024-07-31  5.611100   64619.250000  127652.00000  5522.299805\n",
              "2024-08-01  5.656600   65357.500000  127395.00000  5446.680176\n",
              "2024-08-02  5.750600   61415.066406  125854.00000  5346.560059\n",
              "...              ...            ...           ...          ...\n",
              "2025-01-21  6.029800  106146.265625  123338.00000  6049.240234\n",
              "2025-01-22  6.020500  103653.070312  122972.00000  6086.370117\n",
              "2025-01-23  5.940300  103960.171875  122483.00000  6118.709961\n",
              "2025-01-24  5.924000  104819.484375  122447.00000  6101.240234\n",
              "2025-01-28  5.869800  102195.742188  124242.21875  6064.890137\n",
              "\n",
              "[121 rows x 4 columns]"
            ]
          },
          "execution_count": 10,
          "metadata": {},
          "output_type": "execute_result"
        }
      ],
      "source": [
        "dados_mercado.columns = [\"DOLAR\", \"BTC\", \"IBOVESPA\", \"S&P500\"]\n",
        "\n",
        "dados_mercado"
      ]
    },
    {
      "cell_type": "markdown",
      "id": "0e4b7ce7-589c-49c5-997d-9b1567cb3db5",
      "metadata": {
        "id": "0e4b7ce7-589c-49c5-997d-9b1567cb3db5"
      },
      "source": [
        "# Passo 4 - Criar gráficos de performance."
      ]
    },
    {
      "cell_type": "code",
      "execution_count": null,
      "id": "60aff313-089a-425f-b328-e71bd745313f",
      "metadata": {
        "id": "60aff313-089a-425f-b328-e71bd745313f"
      },
      "outputs": [],
      "source": [
        "plt.style.use(\"cyberpunk\")"
      ]
    },
    {
      "cell_type": "code",
      "execution_count": null,
      "id": "a17d5a37-b138-433d-b28a-06046e0c2386",
      "metadata": {
        "id": "a17d5a37-b138-433d-b28a-06046e0c2386",
        "outputId": "06997880-edb6-49bc-fea4-e9b290c6b958"
      },
      "outputs": [
        {
          "data": {
            "image/png": "[encoded data removed]",
            "text/plain": [
              "<Figure size 640x480 with 1 Axes>"
            ]
          },
          "metadata": {},
          "output_type": "display_data"
        }
      ],
      "source": [
        "plt.plot(dados_mercado[\"IBOVESPA\"])\n",
        "plt.title(\"IBOVESPA\")\n",
        "\n",
        "plt.savefig(\"ibovespa.png\")"
      ]
    },
    {
      "cell_type": "code",
      "execution_count": null,
      "id": "53b97690-e9e4-46aa-a6e5-9e25e76ee956",
      "metadata": {
        "id": "53b97690-e9e4-46aa-a6e5-9e25e76ee956",
        "outputId": "d09e5c47-e4ef-4ef1-a6a3-26d9c1185e18"
      },
      "outputs": [
        {
          "data": {
            "image/png": "[encoded data removed]",
            "text/plain": [
              "<Figure size 640x480 with 1 Axes>"
            ]
          },
          "metadata": {},
          "output_type": "display_data"
        }
      ],
      "source": [
        "plt.plot(dados_mercado[\"DOLAR\"])\n",
        "plt.title(\"DOLAR\")\n",
        "\n",
        "plt.savefig(\"dolar.png\")"
      ]
    },
    {
      "cell_type": "code",
      "execution_count": null,
      "id": "0c83e074-14e0-478f-9832-0f7fb575c763",
      "metadata": {
        "id": "0c83e074-14e0-478f-9832-0f7fb575c763",
        "outputId": "d8a004c4-10ec-4c68-b769-52ed684d37ce"
      },
      "outputs": [
        {
          "data": {
            "image/png": "[encoded data removed]",
            "text/plain": [
              "<Figure size 640x480 with 1 Axes>"
            ]
          },
          "metadata": {},
          "output_type": "display_data"
        }
      ],
      "source": [
        "plt.plot(dados_mercado[\"S&P500\"])\n",
        "plt.title(\"S&P500\")\n",
        "\n",
        "plt.savefig(\"sp500.png\")"
      ]
    },
    {
      "cell_type": "code",
      "execution_count": null,
      "id": "c2f33425-6ff5-41ce-bd22-1efa7220fb09",
      "metadata": {
        "id": "c2f33425-6ff5-41ce-bd22-1efa7220fb09",
        "outputId": "2ae32331-a275-4979-a0fb-c2e5dc5ceb02"
      },
      "outputs": [
        {
          "data": {
            "image/png": "[encoded data removed]",
            "text/plain": [
              "<Figure size 640x480 with 1 Axes>"
            ]
          },
          "metadata": {},
          "output_type": "display_data"
        }
      ],
      "source": [
        "plt.plot(dados_mercado[\"BTC\"])\n",
        "plt.title(\"BTC\")\n",
        "\n",
        "plt.savefig(\"btc.png\")"
      ]
    },
    {
      "cell_type": "markdown",
      "id": "79f9baa1-bb6f-4b71-a421-c8f7d9790e21",
      "metadata": {
        "id": "79f9baa1-bb6f-4b71-a421-c8f7d9790e21"
      },
      "source": [
        "# Passo 5 - Calcular retornos diários."
      ]
    },
    {
      "cell_type": "code",
      "execution_count": null,
      "id": "a7f47c8d-589c-4063-ad99-885c9fa38898",
      "metadata": {
        "id": "a7f47c8d-589c-4063-ad99-885c9fa38898",
        "outputId": "d807cea0-3669-41ba-df5b-23fdf8d3557d"
      },
      "outputs": [
        {
          "data": {
            "text/html": [
              "<div>\n",
              "<style scoped>\n",
              "    .dataframe tbody tr th:only-of-type {\n",
              "        vertical-align: middle;\n",
              "    }\n",
              "\n",
              "    .dataframe tbody tr th {\n",
              "        vertical-align: top;\n",
              "    }\n",
              "\n",
              "    .dataframe thead th {\n",
              "        text-align: right;\n",
              "    }\n",
              "</style>\n",
              "<table border=\"1\" class=\"dataframe\">\n",
              "  <thead>\n",
              "    <tr style=\"text-align: right;\">\n",
              "      <th></th>\n",
              "      <th>DOLAR</th>\n",
              "      <th>BTC</th>\n",
              "      <th>IBOVESPA</th>\n",
              "      <th>S&amp;P500</th>\n",
              "    </tr>\n",
              "    <tr>\n",
              "      <th>Date</th>\n",
              "      <th></th>\n",
              "      <th></th>\n",
              "      <th></th>\n",
              "      <th></th>\n",
              "    </tr>\n",
              "  </thead>\n",
              "  <tbody>\n",
              "    <tr>\n",
              "      <th>2024-07-29</th>\n",
              "      <td>NaN</td>\n",
              "      <td>NaN</td>\n",
              "      <td>NaN</td>\n",
              "      <td>NaN</td>\n",
              "    </tr>\n",
              "    <tr>\n",
              "      <th>2024-07-30</th>\n",
              "      <td>-0.001483</td>\n",
              "      <td>-0.009262</td>\n",
              "      <td>-0.006420</td>\n",
              "      <td>-0.004960</td>\n",
              "    </tr>\n",
              "    <tr>\n",
              "      <th>2024-07-31</th>\n",
              "      <td>-0.000606</td>\n",
              "      <td>-0.023893</td>\n",
              "      <td>0.011995</td>\n",
              "      <td>0.015793</td>\n",
              "    </tr>\n",
              "    <tr>\n",
              "      <th>2024-08-01</th>\n",
              "      <td>0.008109</td>\n",
              "      <td>0.011425</td>\n",
              "      <td>-0.002013</td>\n",
              "      <td>-0.013694</td>\n",
              "    </tr>\n",
              "    <tr>\n",
              "      <th>2024-08-02</th>\n",
              "      <td>0.016618</td>\n",
              "      <td>-0.060321</td>\n",
              "      <td>-0.012096</td>\n",
              "      <td>-0.018382</td>\n",
              "    </tr>\n",
              "    <tr>\n",
              "      <th>...</th>\n",
              "      <td>...</td>\n",
              "      <td>...</td>\n",
              "      <td>...</td>\n",
              "      <td>...</td>\n",
              "    </tr>\n",
              "    <tr>\n",
              "      <th>2025-01-21</th>\n",
              "      <td>-0.003322</td>\n",
              "      <td>0.016123</td>\n",
              "      <td>0.008075</td>\n",
              "      <td>0.008768</td>\n",
              "    </tr>\n",
              "    <tr>\n",
              "      <th>2025-01-22</th>\n",
              "      <td>-0.001542</td>\n",
              "      <td>-0.023488</td>\n",
              "      <td>-0.002967</td>\n",
              "      <td>0.006138</td>\n",
              "    </tr>\n",
              "    <tr>\n",
              "      <th>2025-01-23</th>\n",
              "      <td>-0.013321</td>\n",
              "      <td>0.002963</td>\n",
              "      <td>-0.003977</td>\n",
              "      <td>0.005313</td>\n",
              "    </tr>\n",
              "    <tr>\n",
              "      <th>2025-01-24</th>\n",
              "      <td>-0.002744</td>\n",
              "      <td>0.008266</td>\n",
              "      <td>-0.000294</td>\n",
              "      <td>-0.002855</td>\n",
              "    </tr>\n",
              "    <tr>\n",
              "      <th>2025-01-28</th>\n",
              "      <td>-0.009149</td>\n",
              "      <td>-0.025031</td>\n",
              "      <td>0.014661</td>\n",
              "      <td>-0.005958</td>\n",
              "    </tr>\n",
              "  </tbody>\n",
              "</table>\n",
              "<p>121 rows × 4 columns</p>\n",
              "</div>"
            ],
            "text/plain": [
              "               DOLAR       BTC  IBOVESPA    S&P500\n",
              "Date                                              \n",
              "2024-07-29       NaN       NaN       NaN       NaN\n",
              "2024-07-30 -0.001483 -0.009262 -0.006420 -0.004960\n",
              "2024-07-31 -0.000606 -0.023893  0.011995  0.015793\n",
              "2024-08-01  0.008109  0.011425 -0.002013 -0.013694\n",
              "2024-08-02  0.016618 -0.060321 -0.012096 -0.018382\n",
              "...              ...       ...       ...       ...\n",
              "2025-01-21 -0.003322  0.016123  0.008075  0.008768\n",
              "2025-01-22 -0.001542 -0.023488 -0.002967  0.006138\n",
              "2025-01-23 -0.013321  0.002963 -0.003977  0.005313\n",
              "2025-01-24 -0.002744  0.008266 -0.000294 -0.002855\n",
              "2025-01-28 -0.009149 -0.025031  0.014661 -0.005958\n",
              "\n",
              "[121 rows x 4 columns]"
            ]
          },
          "execution_count": 22,
          "metadata": {},
          "output_type": "execute_result"
        }
      ],
      "source": [
        "retornos_diarios = dados_mercado.pct_change()\n",
        "\n",
        "retornos_diarios"
      ]
    },
    {
      "cell_type": "code",
      "execution_count": null,
      "id": "a4813b92-7d96-4262-9450-350b54be8e94",
      "metadata": {
        "id": "a4813b92-7d96-4262-9450-350b54be8e94"
      },
      "outputs": [],
      "source": [
        "retorno_dolar = retornos_diarios[\"DOLAR\"].iloc[-1]\n",
        "retorno_ibovespa = retornos_diarios[\"IBOVESPA\"].iloc[-1]\n",
        "retorno_sp = retornos_diarios[\"S&P500\"].iloc[-1]\n",
        "retorno_btc = retornos_diarios[\"BTC\"].iloc[-1]"
      ]
    },
    {
      "cell_type": "code",
      "execution_count": null,
      "id": "214a25de-dbc9-496c-967b-6000efc70cd7",
      "metadata": {
        "id": "214a25de-dbc9-496c-967b-6000efc70cd7",
        "outputId": "026cc364-5a83-4c1d-cd03-cece0cb8a5a3"
      },
      "outputs": [
        {
          "data": {
            "text/plain": [
              "'-0.91%'"
            ]
          },
          "execution_count": 28,
          "metadata": {},
          "output_type": "execute_result"
        }
      ],
      "source": [
        "retorno_dolar = str(round(retorno_dolar * 100, 2)) + \"%\"\n",
        "\n",
        "retorno_dolar"
      ]
    },
    {
      "cell_type": "code",
      "execution_count": null,
      "id": "55c68e0f-6c01-4903-961e-19708153d002",
      "metadata": {
        "id": "55c68e0f-6c01-4903-961e-19708153d002",
        "outputId": "a2c6545c-9a0f-4dcc-95e1-6b151465e5c8"
      },
      "outputs": [
        {
          "data": {
            "text/plain": [
              "'-2.5%'"
            ]
          },
          "execution_count": 30,
          "metadata": {},
          "output_type": "execute_result"
        }
      ],
      "source": [
        "retorno_ibovespa = str(round(retorno_ibovespa * 100, 2)) + \"%\"\n",
        "retorno_sp = str(round(retorno_sp * 100, 2)) + \"%\"\n",
        "retorno_btc = str(round(retorno_btc * 100, 2)) + \"%\"\n",
        "\n",
        "retorno_btc"
      ]
    },
    {
      "cell_type": "markdown",
      "id": "efda1f6d-41c4-4f9d-9886-88e9533604cb",
      "metadata": {
        "id": "efda1f6d-41c4-4f9d-9886-88e9533604cb"
      },
      "source": [
        "# Passo 6 - Configurar e enviar o e-mail"
      ]
    },
    {
      "cell_type": "code",
      "execution_count": null,
      "id": "7539ad87-b1b9-465f-ac99-851632800b36",
      "metadata": {
        "id": "7539ad87-b1b9-465f-ac99-851632800b36"
      },
      "outputs": [],
      "source": [
        "!pip install pywin32"
      ]
    },
    {
      "cell_type": "code",
      "execution_count": null,
      "id": "3e60a693-7395-4162-974b-020c8cc36cc9",
      "metadata": {
        "id": "3e60a693-7395-4162-974b-020c8cc36cc9"
      },
      "outputs": [],
      "source": [
        "import win32com.client as win32"
      ]
    },
    {
      "cell_type": "code",
      "execution_count": null,
      "id": "03d6d120-3214-4638-b67f-759938b2ca20",
      "metadata": {
        "id": "03d6d120-3214-4638-b67f-759938b2ca20"
      },
      "outputs": [],
      "source": [
        "outlook = win32.Dispatch(\"outlook.application\")\n",
        "\n",
        "email = outlook.CreateItem(0)"
      ]
    },
    {
      "cell_type": "code",
      "execution_count": null,
      "id": "81b7b945-5c1d-4904-99b0-4856183ed571",
      "metadata": {
        "id": "81b7b945-5c1d-4904-99b0-4856183ed571"
      },
      "outputs": [],
      "source": [
        "email.To = \"evento@varos.com.br\"\n",
        "email.Subject = \"Relatório de Mercado\"\n",
        "email.Body = f'''Prezado diretor, segue o relatório de mercado:\n",
        "\n",
        "* O Ibovespa teve o retorno de {retorno_ibovespa}.\n",
        "* O Dólar teve o retorno de {retorno_dolar}.\n",
        "* O S&P500 teve o retorno de {retorno_sp}.\n",
        "* O BTC teve o retorno de {retorno_btc}.\n",
        "\n",
        "Segue em anexo a peformance dos ativos nos últimos 6 meses.\n",
        "\n",
        "Att,\n",
        "Melhor estagiário do mundo\n",
        "\n",
        "\n",
        "'''\n",
        "\n",
        "anexo_ibovespa = r\"C:\\Users\\VAROS\\Downloads\\ibovespa.png\"\n",
        "anexo_dolar = r\"C:\\Users\\VAROS\\Downloads\\dolar.png\"\n",
        "anexo_sp = r\"C:\\Users\\VAROS\\Downloads\\sp500.png\"\n",
        "anexo_btc = r\"C:\\Users\\VAROS\\Downloads\\btc.png\"\n",
        "\n",
        "email.Attachments.Add(anexo_ibovespa)\n",
        "email.Attachments.Add(anexo_dolar)\n",
        "email.Attachments.Add(anexo_sp)\n",
        "email.Attachments.Add(anexo_btc)\n",
        "\n",
        "email.Send()"
      ]
    },
    {
      "cell_type": "code",
      "execution_count": null,
      "id": "68876d20-8ef8-4c46-8d40-47a09ac97d14",
      "metadata": {
        "id": "68876d20-8ef8-4c46-8d40-47a09ac97d14"
      },
      "outputs": [],
      "source": []
    },
    {
      "cell_type": "code",
      "execution_count": null,
      "id": "0ee49818-a025-4376-aa35-0fd8f01ab89b",
      "metadata": {
        "id": "0ee49818-a025-4376-aa35-0fd8f01ab89b"
      },
      "outputs": [],
      "source": []
    },
    {
      "cell_type": "code",
      "execution_count": null,
      "id": "e769424a-4a24-46db-9c1a-3c32980004d6",
      "metadata": {
        "id": "e769424a-4a24-46db-9c1a-3c32980004d6"
      },
      "outputs": [],
      "source": []
    }
  ],
  "metadata": {
    "kernelspec": {
      "display_name": "Python 3 (ipykernel)",
      "language": "python",
      "name": "python3"
    },
    "language_info": {
      "codemirror_mode": {
        "name": "ipython",
        "version": 3
      },
      "file_extension": ".py",
      "mimetype": "text/x-python",
      "name": "python",
      "nbconvert_exporter": "python",
      "pygments_lexer": "ipython3",
      "version": "3.11.7"
    },
    "colab": {
      "provenance": [],
      "include_colab_link": true
    }
  },
  "nbformat": 4,
  "nbformat_minor": 5
}